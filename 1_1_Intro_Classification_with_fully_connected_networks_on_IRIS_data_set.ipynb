{
  "cells": [
    {
      "cell_type": "markdown",
      "metadata": {
        "id": "view-in-github",
        "colab_type": "text"
      },
      "source": [
        "<a href=\"https://colab.research.google.com/github/yasinazhdari/Intro-to-Tensorflow-Simple-Classification-with-fully-connected-networks-on-IRIS-data-set-/blob/main/1_1_Intro_Classification_with_fully_connected_networks_on_IRIS_data_set.ipynb\" target=\"_parent\"><img src=\"https://colab.research.google.com/assets/colab-badge.svg\" alt=\"Open In Colab\"/></a>"
      ]
    },
    {
      "cell_type": "markdown",
      "metadata": {
        "id": "h_X0RlJrXpPr"
      },
      "source": [
        "**1-1_Intro_Classification with fully connected networks on IRIS data set** "
      ]
    },
    {
      "cell_type": "code",
      "execution_count": null,
      "metadata": {
        "id": "e1JJlhOMXpP3"
      },
      "outputs": [],
      "source": [
        "# importing required libraries, other libraries will be included in case through out the note book.\n",
        "import numpy as np\n",
        "from tensorflow  import keras\n",
        "from sklearn.datasets import load_iris\n",
        "from sklearn.model_selection import train_test_split\n",
        "from keras.models import Sequential\n",
        "from keras.layers import Dense, Dropout\n",
        "from tensorflow.keras.optimizers import Adam"
      ]
    },
    {
      "cell_type": "markdown",
      "metadata": {
        "id": "3D3dJcN7vOn2"
      },
      "source": [
        "<div style =\"direction:ltr;text-align:left;font-family:Tahoma\">\n",
        "<br>\n",
        "Additional information on the IRIS data set which is consisted of 4-dimensional features and 3 output classes is available at: \n",
        "<br>\n",
        "</div>\n",
        "\n",
        "\n",
        "https://archive.ics.uci.edu/ml/datasets/iris"
      ]
    },
    {
      "cell_type": "code",
      "execution_count": null,
      "metadata": {
        "id": "L6-sSFc5XpP6"
      },
      "outputs": [],
      "source": [
        "# Next, loading the data set and performing preliminaries.\n",
        "iris_data = load_iris()             # load the iris dataset\n",
        "x = iris_data.data\n",
        "y = iris_data.target#.reshape(-1, 1) # Convert data to a single column"
      ]
    },
    {
      "cell_type": "code",
      "source": [
        "x.shape"
      ],
      "metadata": {
        "id": "RCpjm5LMwp6x",
        "outputId": "23f209a4-a77e-4443-ced1-7d57349a708a",
        "colab": {
          "base_uri": "https://localhost:8080/"
        }
      },
      "execution_count": null,
      "outputs": [
        {
          "output_type": "execute_result",
          "data": {
            "text/plain": [
              "(150, 4)"
            ]
          },
          "metadata": {},
          "execution_count": 18
        }
      ]
    },
    {
      "cell_type": "code",
      "source": [
        "np.unique(iris_data.target)"
      ],
      "metadata": {
        "id": "Yp5DH3KpwAyI",
        "outputId": "c3e96f96-53b2-4135-8a5a-e435a1421ed1",
        "colab": {
          "base_uri": "https://localhost:8080/"
        }
      },
      "execution_count": null,
      "outputs": [
        {
          "output_type": "execute_result",
          "data": {
            "text/plain": [
              "array([0, 1, 2])"
            ]
          },
          "metadata": {},
          "execution_count": 10
        }
      ]
    },
    {
      "cell_type": "code",
      "execution_count": null,
      "metadata": {
        "id": "Paxu3D_CXpP8"
      },
      "outputs": [],
      "source": [
        "# one-hot coding the corresponding multi class labels.\n",
        "y =  keras.utils.to_categorical(y, num_classes=3)"
      ]
    },
    {
      "cell_type": "code",
      "execution_count": null,
      "metadata": {
        "colab": {
          "base_uri": "https://localhost:8080/"
        },
        "id": "C7IqdjGafWOl",
        "outputId": "2736375b-2d07-4e52-fc80-f98a516d8e97"
      },
      "outputs": [
        {
          "output_type": "execute_result",
          "data": {
            "text/plain": [
              "(150, 4)"
            ]
          },
          "metadata": {},
          "execution_count": 12
        }
      ],
      "source": [
        "x.shape"
      ]
    },
    {
      "cell_type": "code",
      "execution_count": null,
      "metadata": {
        "colab": {
          "base_uri": "https://localhost:8080/"
        },
        "id": "8dtIVyo5fWBX",
        "outputId": "c605fca5-5669-4beb-f96c-bd7b2fe6ecc1"
      },
      "outputs": [
        {
          "output_type": "execute_result",
          "data": {
            "text/plain": [
              "(150, 3)"
            ]
          },
          "metadata": {},
          "execution_count": 13
        }
      ],
      "source": [
        "y.shape"
      ]
    },
    {
      "cell_type": "code",
      "execution_count": null,
      "metadata": {
        "id": "tBCQK-8_XpP9"
      },
      "outputs": [],
      "source": [
        "# Split the data for training and testing objectives.\n",
        "train_x, test_x, train_y, test_y = train_test_split(x, y, test_size=0.20)"
      ]
    },
    {
      "cell_type": "markdown",
      "metadata": {
        "id": "6QJfzRyMvOn6"
      },
      "source": [
        "# <div style=\"direction:ltr;text-align:left;font-family:Tahoma\">Building the model of a fully connected neural network with the following architecture:</div>\n",
        "<div style=\"direction:ltr;text-align:left;font-family:Tahoma\">\n",
        "<ul>\n",
        "    <li>\n",
        "    a fully connected layer with 10 units (neurons), and ReLU activation function.    </li>\n",
        "    <li>\n",
        "    a fully connected layer with 10 units (neurons), and ReLU activation function.    </li>\n",
        "    <li>\n",
        "    a Drop out layer with the rate of 0.5 before the final softmax layer.\n",
        "    <li>\n",
        "    a fully connected layer with 10 units (neurons), and ReLU activation function.    </li>\n",
        "    <li>\n",
        "    a Drop out layer with the rate of 0.5 before the final softmax layer.\n",
        "    <li>\n",
        "    finally, a softmax output layer for evaluation of output probabilities.\n",
        "    </li>    \n",
        " \n",
        "</ul>\n",
        "</div>"
      ]
    },
    {
      "cell_type": "code",
      "execution_count": null,
      "metadata": {
        "id": "vJnU5qpzXpP-"
      },
      "outputs": [],
      "source": [
        "# Building the model, which consists of two hidden layers, each with 10 units (neurons)\n",
        "#and ReLU activation functions.\n",
        "# Also, there is a drop out layer with the rate of 0.5 before the final softmax layer.\n",
        "model = Sequential()\n",
        "model.add(Dense(5, activation= 'relu', input_dim=4))\n",
        "model.add(Dense(10, activation='relu'))\n",
        "model.add(Dropout(0.5))\n",
        "model.add(Dense(10, activation='relu'))\n",
        "model.add(Dropout(0.5))\n",
        "model.add(Dense(3, activation='softmax'))"
      ]
    },
    {
      "cell_type": "code",
      "execution_count": null,
      "metadata": {
        "colab": {
          "base_uri": "https://localhost:8080/"
        },
        "id": "IooFrBPcXpP_",
        "outputId": "32b430e7-e00f-4293-a1c5-57cc1c01b322"
      },
      "outputs": [
        {
          "output_type": "stream",
          "name": "stdout",
          "text": [
            "Model: \"sequential_2\"\n",
            "_________________________________________________________________\n",
            " Layer (type)                Output Shape              Param #   \n",
            "=================================================================\n",
            " dense_7 (Dense)             (None, 5)                 25        \n",
            "                                                                 \n",
            " dense_8 (Dense)             (None, 10)                60        \n",
            "                                                                 \n",
            " dropout_3 (Dropout)         (None, 10)                0         \n",
            "                                                                 \n",
            " dense_9 (Dense)             (None, 10)                110       \n",
            "                                                                 \n",
            " dropout_4 (Dropout)         (None, 10)                0         \n",
            "                                                                 \n",
            " dense_10 (Dense)            (None, 3)                 33        \n",
            "                                                                 \n",
            "=================================================================\n",
            "Total params: 228\n",
            "Trainable params: 228\n",
            "Non-trainable params: 0\n",
            "_________________________________________________________________\n"
          ]
        }
      ],
      "source": [
        "model.summary()"
      ]
    },
    {
      "cell_type": "code",
      "execution_count": null,
      "metadata": {
        "colab": {
          "base_uri": "https://localhost:8080/"
        },
        "id": "4YzYp5A4XpP_",
        "outputId": "26bf3059-6ed6-40a3-f3af-fd911dbc83ed"
      },
      "outputs": [
        {
          "output_type": "stream",
          "name": "stderr",
          "text": [
            "/usr/local/lib/python3.7/dist-packages/keras/optimizer_v2/adam.py:105: UserWarning: The `lr` argument is deprecated, use `learning_rate` instead.\n",
            "  super(Adam, self).__init__(name, **kwargs)\n"
          ]
        }
      ],
      "source": [
        "# Compiling the model with Adam optimizer with learning rate of 0.001\n",
        "optimizer = Adam(lr=0.01)\n",
        "model.compile(optimizer, loss='categorical_crossentropy', metrics=['accuracy'])"
      ]
    },
    {
      "cell_type": "code",
      "execution_count": null,
      "metadata": {
        "colab": {
          "base_uri": "https://localhost:8080/"
        },
        "id": "BCcDcNR3XpQA",
        "outputId": "b4f1f28e-97b7-4481-a747-688d8568a08d"
      },
      "outputs": [
        {
          "output_type": "stream",
          "name": "stdout",
          "text": [
            "Epoch 1/100\n",
            "12/12 [==============================] - 1s 6ms/step - loss: 0.6762 - accuracy: 0.6500\n",
            "Epoch 2/100\n",
            "12/12 [==============================] - 0s 3ms/step - loss: 0.6094 - accuracy: 0.7417\n",
            "Epoch 3/100\n",
            "12/12 [==============================] - 0s 4ms/step - loss: 0.5754 - accuracy: 0.7333\n",
            "Epoch 4/100\n",
            "12/12 [==============================] - 0s 4ms/step - loss: 0.6792 - accuracy: 0.6750\n",
            "Epoch 5/100\n",
            "12/12 [==============================] - 0s 3ms/step - loss: 0.6833 - accuracy: 0.7000\n",
            "Epoch 6/100\n",
            "12/12 [==============================] - 0s 4ms/step - loss: 0.5537 - accuracy: 0.7333\n",
            "Epoch 7/100\n",
            "12/12 [==============================] - 0s 4ms/step - loss: 0.6481 - accuracy: 0.7000\n",
            "Epoch 8/100\n",
            "12/12 [==============================] - 0s 9ms/step - loss: 0.5603 - accuracy: 0.7250\n",
            "Epoch 9/100\n",
            "12/12 [==============================] - 0s 8ms/step - loss: 0.7543 - accuracy: 0.6083\n",
            "Epoch 10/100\n",
            "12/12 [==============================] - 0s 5ms/step - loss: 0.5906 - accuracy: 0.7167\n",
            "Epoch 11/100\n",
            "12/12 [==============================] - 0s 6ms/step - loss: 0.6693 - accuracy: 0.6667\n",
            "Epoch 12/100\n",
            "12/12 [==============================] - 0s 8ms/step - loss: 0.6649 - accuracy: 0.6833\n",
            "Epoch 13/100\n",
            "12/12 [==============================] - 0s 4ms/step - loss: 0.7059 - accuracy: 0.6833\n",
            "Epoch 14/100\n",
            "12/12 [==============================] - 0s 4ms/step - loss: 0.5489 - accuracy: 0.7417\n",
            "Epoch 15/100\n",
            "12/12 [==============================] - 0s 9ms/step - loss: 0.6859 - accuracy: 0.6500\n",
            "Epoch 16/100\n",
            "12/12 [==============================] - 0s 8ms/step - loss: 0.6024 - accuracy: 0.7167\n",
            "Epoch 17/100\n",
            "12/12 [==============================] - 0s 4ms/step - loss: 0.5947 - accuracy: 0.7333\n",
            "Epoch 18/100\n",
            "12/12 [==============================] - 0s 8ms/step - loss: 0.5964 - accuracy: 0.7083\n",
            "Epoch 19/100\n",
            "12/12 [==============================] - 0s 6ms/step - loss: 0.7185 - accuracy: 0.6583\n",
            "Epoch 20/100\n",
            "12/12 [==============================] - 0s 4ms/step - loss: 0.6909 - accuracy: 0.6500\n",
            "Epoch 21/100\n",
            "12/12 [==============================] - 0s 4ms/step - loss: 0.7187 - accuracy: 0.6333\n",
            "Epoch 22/100\n",
            "12/12 [==============================] - 0s 4ms/step - loss: 0.6931 - accuracy: 0.6333\n",
            "Epoch 23/100\n",
            "12/12 [==============================] - 0s 3ms/step - loss: 0.6296 - accuracy: 0.6917\n",
            "Epoch 24/100\n",
            "12/12 [==============================] - 0s 4ms/step - loss: 0.6137 - accuracy: 0.7083\n",
            "Epoch 25/100\n",
            "12/12 [==============================] - 0s 3ms/step - loss: 0.6613 - accuracy: 0.6667\n",
            "Epoch 26/100\n",
            "12/12 [==============================] - 0s 4ms/step - loss: 0.7461 - accuracy: 0.6417\n",
            "Epoch 27/100\n",
            "12/12 [==============================] - 0s 6ms/step - loss: 0.6045 - accuracy: 0.7083\n",
            "Epoch 28/100\n",
            "12/12 [==============================] - 0s 6ms/step - loss: 0.6316 - accuracy: 0.6917\n",
            "Epoch 29/100\n",
            "12/12 [==============================] - 0s 4ms/step - loss: 0.5760 - accuracy: 0.7417\n",
            "Epoch 30/100\n",
            "12/12 [==============================] - 0s 10ms/step - loss: 0.5305 - accuracy: 0.7583\n",
            "Epoch 31/100\n",
            "12/12 [==============================] - 0s 6ms/step - loss: 0.6318 - accuracy: 0.6750\n",
            "Epoch 32/100\n",
            "12/12 [==============================] - 0s 3ms/step - loss: 0.6576 - accuracy: 0.6750\n",
            "Epoch 33/100\n",
            "12/12 [==============================] - 0s 4ms/step - loss: 0.6713 - accuracy: 0.6583\n",
            "Epoch 34/100\n",
            "12/12 [==============================] - 0s 4ms/step - loss: 0.5524 - accuracy: 0.7583\n",
            "Epoch 35/100\n",
            "12/12 [==============================] - 0s 4ms/step - loss: 0.6736 - accuracy: 0.6917\n",
            "Epoch 36/100\n",
            "12/12 [==============================] - 0s 5ms/step - loss: 0.5841 - accuracy: 0.7333\n",
            "Epoch 37/100\n",
            "12/12 [==============================] - 0s 4ms/step - loss: 0.7045 - accuracy: 0.6917\n",
            "Epoch 38/100\n",
            "12/12 [==============================] - 0s 4ms/step - loss: 0.5312 - accuracy: 0.7500\n",
            "Epoch 39/100\n",
            "12/12 [==============================] - 0s 7ms/step - loss: 0.6268 - accuracy: 0.7083\n",
            "Epoch 40/100\n",
            "12/12 [==============================] - 0s 6ms/step - loss: 0.5975 - accuracy: 0.6917\n",
            "Epoch 41/100\n",
            "12/12 [==============================] - 0s 8ms/step - loss: 0.6536 - accuracy: 0.6583\n",
            "Epoch 42/100\n",
            "12/12 [==============================] - 0s 11ms/step - loss: 0.6223 - accuracy: 0.6833\n",
            "Epoch 43/100\n",
            "12/12 [==============================] - 0s 11ms/step - loss: 0.6675 - accuracy: 0.6667\n",
            "Epoch 44/100\n",
            "12/12 [==============================] - 0s 13ms/step - loss: 0.6120 - accuracy: 0.7000\n",
            "Epoch 45/100\n",
            "12/12 [==============================] - 0s 11ms/step - loss: 0.6441 - accuracy: 0.6750\n",
            "Epoch 46/100\n",
            "12/12 [==============================] - 0s 6ms/step - loss: 0.6214 - accuracy: 0.7000\n",
            "Epoch 47/100\n",
            "12/12 [==============================] - 0s 4ms/step - loss: 0.6581 - accuracy: 0.6583\n",
            "Epoch 48/100\n",
            "12/12 [==============================] - 0s 3ms/step - loss: 0.5663 - accuracy: 0.7167\n",
            "Epoch 49/100\n",
            "12/12 [==============================] - 0s 3ms/step - loss: 0.7038 - accuracy: 0.6750\n",
            "Epoch 50/100\n",
            "12/12 [==============================] - 0s 4ms/step - loss: 0.5878 - accuracy: 0.7167\n",
            "Epoch 51/100\n",
            "12/12 [==============================] - 0s 6ms/step - loss: 0.6397 - accuracy: 0.7000\n",
            "Epoch 52/100\n",
            "12/12 [==============================] - 0s 4ms/step - loss: 0.5664 - accuracy: 0.7500\n",
            "Epoch 53/100\n",
            "12/12 [==============================] - 0s 6ms/step - loss: 0.6030 - accuracy: 0.7250\n",
            "Epoch 54/100\n",
            "12/12 [==============================] - 0s 4ms/step - loss: 0.5813 - accuracy: 0.7417\n",
            "Epoch 55/100\n",
            "12/12 [==============================] - 0s 6ms/step - loss: 0.7529 - accuracy: 0.6500\n",
            "Epoch 56/100\n",
            "12/12 [==============================] - 0s 4ms/step - loss: 0.6402 - accuracy: 0.6833\n",
            "Epoch 57/100\n",
            "12/12 [==============================] - 0s 4ms/step - loss: 0.5809 - accuracy: 0.7500\n",
            "Epoch 58/100\n",
            "12/12 [==============================] - 0s 4ms/step - loss: 0.6165 - accuracy: 0.6833\n",
            "Epoch 59/100\n",
            "12/12 [==============================] - 0s 4ms/step - loss: 0.6792 - accuracy: 0.6667\n",
            "Epoch 60/100\n",
            "12/12 [==============================] - 0s 4ms/step - loss: 0.6136 - accuracy: 0.7083\n",
            "Epoch 61/100\n",
            "12/12 [==============================] - 0s 4ms/step - loss: 0.7051 - accuracy: 0.6500\n",
            "Epoch 62/100\n",
            "12/12 [==============================] - 0s 4ms/step - loss: 0.6097 - accuracy: 0.6833\n",
            "Epoch 63/100\n",
            "12/12 [==============================] - 0s 5ms/step - loss: 0.6026 - accuracy: 0.7083\n",
            "Epoch 64/100\n",
            "12/12 [==============================] - 0s 4ms/step - loss: 0.6004 - accuracy: 0.7167\n",
            "Epoch 65/100\n",
            "12/12 [==============================] - 0s 3ms/step - loss: 0.6484 - accuracy: 0.6833\n",
            "Epoch 66/100\n",
            "12/12 [==============================] - 0s 8ms/step - loss: 0.6675 - accuracy: 0.6750\n",
            "Epoch 67/100\n",
            "12/12 [==============================] - 0s 4ms/step - loss: 0.5661 - accuracy: 0.7250\n",
            "Epoch 68/100\n",
            "12/12 [==============================] - 0s 4ms/step - loss: 0.6108 - accuracy: 0.7167\n",
            "Epoch 69/100\n",
            "12/12 [==============================] - 0s 4ms/step - loss: 0.6085 - accuracy: 0.7083\n",
            "Epoch 70/100\n",
            "12/12 [==============================] - 0s 4ms/step - loss: 0.5597 - accuracy: 0.7333\n",
            "Epoch 71/100\n",
            "12/12 [==============================] - 0s 4ms/step - loss: 0.5745 - accuracy: 0.7250\n",
            "Epoch 72/100\n",
            "12/12 [==============================] - 0s 4ms/step - loss: 0.6829 - accuracy: 0.6417\n",
            "Epoch 73/100\n",
            "12/12 [==============================] - 0s 4ms/step - loss: 0.6672 - accuracy: 0.6833\n",
            "Epoch 74/100\n",
            "12/12 [==============================] - 0s 4ms/step - loss: 0.6337 - accuracy: 0.6917\n",
            "Epoch 75/100\n",
            "12/12 [==============================] - 0s 4ms/step - loss: 0.6724 - accuracy: 0.6750\n",
            "Epoch 76/100\n",
            "12/12 [==============================] - 0s 4ms/step - loss: 0.6416 - accuracy: 0.6750\n",
            "Epoch 77/100\n",
            "12/12 [==============================] - 0s 5ms/step - loss: 0.5792 - accuracy: 0.7417\n",
            "Epoch 78/100\n",
            "12/12 [==============================] - 0s 4ms/step - loss: 0.6366 - accuracy: 0.7000\n",
            "Epoch 79/100\n",
            "12/12 [==============================] - 0s 4ms/step - loss: 0.6279 - accuracy: 0.6833\n",
            "Epoch 80/100\n",
            "12/12 [==============================] - 0s 3ms/step - loss: 0.7294 - accuracy: 0.6500\n",
            "Epoch 81/100\n",
            "12/12 [==============================] - 0s 4ms/step - loss: 0.7692 - accuracy: 0.6167\n",
            "Epoch 82/100\n",
            "12/12 [==============================] - 0s 4ms/step - loss: 0.6529 - accuracy: 0.7000\n",
            "Epoch 83/100\n",
            "12/12 [==============================] - 0s 3ms/step - loss: 0.5153 - accuracy: 0.7667\n",
            "Epoch 84/100\n",
            "12/12 [==============================] - 0s 4ms/step - loss: 0.5842 - accuracy: 0.7083\n",
            "Epoch 85/100\n",
            "12/12 [==============================] - 0s 3ms/step - loss: 0.6255 - accuracy: 0.7083\n",
            "Epoch 86/100\n",
            "12/12 [==============================] - 0s 4ms/step - loss: 0.5797 - accuracy: 0.7500\n",
            "Epoch 87/100\n",
            "12/12 [==============================] - 0s 4ms/step - loss: 0.6623 - accuracy: 0.6667\n",
            "Epoch 88/100\n",
            "12/12 [==============================] - 0s 4ms/step - loss: 0.6741 - accuracy: 0.6750\n",
            "Epoch 89/100\n",
            "12/12 [==============================] - 0s 4ms/step - loss: 0.6473 - accuracy: 0.6833\n",
            "Epoch 90/100\n",
            "12/12 [==============================] - 0s 3ms/step - loss: 0.5959 - accuracy: 0.7250\n",
            "Epoch 91/100\n",
            "12/12 [==============================] - 0s 2ms/step - loss: 0.6458 - accuracy: 0.6917\n",
            "Epoch 92/100\n",
            "12/12 [==============================] - 0s 3ms/step - loss: 0.6741 - accuracy: 0.6750\n",
            "Epoch 93/100\n",
            "12/12 [==============================] - 0s 3ms/step - loss: 0.6626 - accuracy: 0.6833\n",
            "Epoch 94/100\n",
            "12/12 [==============================] - 0s 2ms/step - loss: 0.5966 - accuracy: 0.7083\n",
            "Epoch 95/100\n",
            "12/12 [==============================] - 0s 2ms/step - loss: 0.5893 - accuracy: 0.7333\n",
            "Epoch 96/100\n",
            "12/12 [==============================] - 0s 2ms/step - loss: 0.6755 - accuracy: 0.6667\n",
            "Epoch 97/100\n",
            "12/12 [==============================] - 0s 2ms/step - loss: 0.6901 - accuracy: 0.6667\n",
            "Epoch 98/100\n",
            "12/12 [==============================] - 0s 2ms/step - loss: 0.6590 - accuracy: 0.6750\n",
            "Epoch 99/100\n",
            "12/12 [==============================] - 0s 2ms/step - loss: 0.5822 - accuracy: 0.7083\n",
            "Epoch 100/100\n",
            "12/12 [==============================] - 0s 3ms/step - loss: 0.5913 - accuracy: 0.7250\n"
          ]
        },
        {
          "output_type": "execute_result",
          "data": {
            "text/plain": [
              "<keras.callbacks.History at 0x7fc590f57d10>"
            ]
          },
          "metadata": {},
          "execution_count": 31
        }
      ],
      "source": [
        "# Training the model with batchsize of 5 and 200 epochs.\n",
        "model.fit(train_x, train_y,epochs=100,batch_size=10)"
      ]
    },
    {
      "cell_type": "code",
      "execution_count": null,
      "metadata": {
        "colab": {
          "base_uri": "https://localhost:8080/"
        },
        "id": "2O2kd25iXpQA",
        "outputId": "45709966-9ba2-4802-a0a8-c6b7ab0a1ba1"
      },
      "outputs": [
        {
          "output_type": "stream",
          "name": "stdout",
          "text": [
            "1/1 [==============================] - 0s 161ms/step - loss: 0.3451 - accuracy: 0.9333\n",
            "Final test set loss: 0.345101\n",
            "Final test set accuracy: 0.933333\n"
          ]
        }
      ],
      "source": [
        "# Evaluating the model on unseen data (test set).\n",
        "results = model.evaluate(test_x, test_y)\n",
        "\n",
        "print('Final test set loss: {:4f}'.format(results[0]))\n",
        "print('Final test set accuracy: {:4f}'.format(results[1]))"
      ]
    }
  ],
  "metadata": {
    "colab": {
      "collapsed_sections": [],
      "name": "1-1_Intro_Classification with fully connected networks on IRIS data set.ipynb",
      "provenance": [],
      "include_colab_link": true
    },
    "kernelspec": {
      "display_name": "Python 3 (ipykernel)",
      "language": "python",
      "name": "python3"
    },
    "language_info": {
      "codemirror_mode": {
        "name": "ipython",
        "version": 3
      },
      "file_extension": ".py",
      "mimetype": "text/x-python",
      "name": "python",
      "nbconvert_exporter": "python",
      "pygments_lexer": "ipython3",
      "version": "3.9.7"
    }
  },
  "nbformat": 4,
  "nbformat_minor": 0
}