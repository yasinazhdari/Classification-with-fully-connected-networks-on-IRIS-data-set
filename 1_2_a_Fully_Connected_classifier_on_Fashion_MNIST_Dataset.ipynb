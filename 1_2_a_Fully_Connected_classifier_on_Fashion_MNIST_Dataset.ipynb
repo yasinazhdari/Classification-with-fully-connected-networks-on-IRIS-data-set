{
  "cells": [
    {
      "cell_type": "markdown",
      "metadata": {
        "id": "view-in-github",
        "colab_type": "text"
      },
      "source": [
        "<a href=\"https://colab.research.google.com/github/yasinazhdari/Intro-to-Tensorflow-Simple-Classification-with-fully-connected-networks-on-IRIS-data-set-/blob/main/1_2_a_Fully_Connected_classifier_on_Fashion_MNIST_Dataset.ipynb\" target=\"_parent\"><img src=\"https://colab.research.google.com/assets/colab-badge.svg\" alt=\"Open In Colab\"/></a>"
      ]
    },
    {
      "cell_type": "markdown",
      "source": [
        "**a Fully Connected classifier on Fashion MNIST Dataset.**"
      ],
      "metadata": {
        "id": "dUVGnGA9X2YN"
      }
    },
    {
      "cell_type": "code",
      "execution_count": null,
      "metadata": {
        "nbpresent": {
          "id": "de829a92-1fb6-44ad-a2c6-fc1001e1f6e1"
        },
        "id": "UcwFaOjHXvxB"
      },
      "outputs": [],
      "source": [
        "import numpy as  np\n",
        "from tensorflow  import keras\n",
        "from sklearn.datasets import load_iris\n",
        "from sklearn.model_selection import train_test_split\n",
        "from keras.models import Sequential\n",
        "from keras.layers import Dense, Dropout\n",
        "from tensorflow.keras.optimizers import Adam"
      ]
    },
    {
      "cell_type": "code",
      "source": [
        "fashion_mnist = keras.datasets.fashion_mnist\n",
        "(train_images, train_labels), (test_images, test_labels) = fashion_mnist.load_data()"
      ],
      "metadata": {
        "id": "Yyh7666JYY-x",
        "outputId": "097f3ac8-5d35-4877-ce32-d872069a7e80",
        "colab": {
          "base_uri": "https://localhost:8080/"
        }
      },
      "execution_count": null,
      "outputs": [
        {
          "output_type": "stream",
          "name": "stdout",
          "text": [
            "Downloading data from https://storage.googleapis.com/tensorflow/tf-keras-datasets/train-labels-idx1-ubyte.gz\n",
            "32768/29515 [=================================] - 0s 0us/step\n",
            "40960/29515 [=========================================] - 0s 0us/step\n",
            "Downloading data from https://storage.googleapis.com/tensorflow/tf-keras-datasets/train-images-idx3-ubyte.gz\n",
            "26427392/26421880 [==============================] - 0s 0us/step\n",
            "26435584/26421880 [==============================] - 0s 0us/step\n",
            "Downloading data from https://storage.googleapis.com/tensorflow/tf-keras-datasets/t10k-labels-idx1-ubyte.gz\n",
            "16384/5148 [===============================================================================================] - 0s 0us/step\n",
            "Downloading data from https://storage.googleapis.com/tensorflow/tf-keras-datasets/t10k-images-idx3-ubyte.gz\n",
            "4423680/4422102 [==============================] - 0s 0us/step\n",
            "4431872/4422102 [==============================] - 0s 0us/step\n"
          ]
        }
      ]
    },
    {
      "cell_type": "code",
      "source": [
        "np.unique(train_labels)"
      ],
      "metadata": {
        "id": "UlHBiZoKZFkr",
        "outputId": "a416846a-c0ff-46ce-cc07-7b44385d6c4f",
        "colab": {
          "base_uri": "https://localhost:8080/"
        }
      },
      "execution_count": null,
      "outputs": [
        {
          "output_type": "execute_result",
          "data": {
            "text/plain": [
              "array([0, 1, 2, 3, 4, 5, 6, 7, 8, 9], dtype=uint8)"
            ]
          },
          "metadata": {},
          "execution_count": 5
        }
      ]
    },
    {
      "cell_type": "code",
      "source": [
        "print(train_images.shape)\n",
        "print(test_images.shape )\n",
        "print(train_labels.shape)\n",
        "print(test_labels.shape )"
      ],
      "metadata": {
        "id": "QeCv4-y9Zl69",
        "outputId": "4d7336db-e72a-47b5-8667-859755fe0e70",
        "colab": {
          "base_uri": "https://localhost:8080/"
        }
      },
      "execution_count": null,
      "outputs": [
        {
          "output_type": "stream",
          "name": "stdout",
          "text": [
            "(60000, 28, 28)\n",
            "(10000, 28, 28)\n",
            "(60000,)\n",
            "(10000,)\n"
          ]
        }
      ]
    },
    {
      "cell_type": "code",
      "source": [
        "import matplotlib.pyplot as plt"
      ],
      "metadata": {
        "id": "6HlhugFYZ4-r"
      },
      "execution_count": null,
      "outputs": []
    },
    {
      "cell_type": "code",
      "source": [
        "from random     import randint\n",
        "from matplotlib import  figure\n",
        "for i in range(10):\n",
        "  figure,\n",
        "  plt.imshow(train_images[randint(1,60000)], cmap='gray')\n",
        "  plt.show()"
      ],
      "metadata": {
        "id": "jmmvCgVHZW-z",
        "outputId": "5aa05af9-c508-47b8-8024-7ded2c061bbf",
        "colab": {
          "base_uri": "https://localhost:8080/",
          "height": 1000
        }
      },
      "execution_count": null,
      "outputs": [
        {
          "output_type": "display_data",
          "data": {
            "text/plain": [
              "<Figure size 432x288 with 1 Axes>"
            ],
            "image/png": "[encoded data removed]"
          },
          "metadata": {
            "needs_background": "light"
          }
        },
        {
          "output_type": "display_data",
          "data": {
            "text/plain": [
              "<Figure size 432x288 with 1 Axes>"
            ],
            "image/png": "[encoded data removed]"
          },
          "metadata": {
            "needs_background": "light"
          }
        },
        {
          "output_type": "display_data",
          "data": {
            "text/plain": [
              "<Figure size 432x288 with 1 Axes>"
            ],
            "image/png": "[encoded data removed]"
          },
          "metadata": {
            "needs_background": "light"
          }
        },
        {
          "output_type": "display_data",
          "data": {
            "text/plain": [
              "<Figure size 432x288 with 1 Axes>"
            ],
            "image/png": "[encoded data removed]"
          },
          "metadata": {
            "needs_background": "light"
          }
        },
        {
          "output_type": "display_data",
          "data": {
            "text/plain": [
              "<Figure size 432x288 with 1 Axes>"
            ],
            "image/png": "[encoded data removed]"
          },
          "metadata": {
            "needs_background": "light"
          }
        },
        {
          "output_type": "display_data",
          "data": {
            "text/plain": [
              "<Figure size 432x288 with 1 Axes>"
            ],
            "image/png": "[encoded data removed]"
          },
          "metadata": {
            "needs_background": "light"
          }
        },
        {
          "output_type": "display_data",
          "data": {
            "text/plain": [
              "<Figure size 432x288 with 1 Axes>"
            ],
            "image/png": "[encoded data removed]"
          },
          "metadata": {
            "needs_background": "light"
          }
        },
        {
          "output_type": "display_data",
          "data": {
            "text/plain": [
              "<Figure size 432x288 with 1 Axes>"
            ],
            "image/png": "[encoded data removed]"
          },
          "metadata": {
            "needs_background": "light"
          }
        },
        {
          "output_type": "display_data",
          "data": {
            "text/plain": [
              "<Figure size 432x288 with 1 Axes>"
            ],
            "image/png": "[encoded data removed]"
          },
          "metadata": {
            "needs_background": "light"
          }
        },
        {
          "output_type": "display_data",
          "data": {
            "text/plain": [
              "<Figure size 432x288 with 1 Axes>"
            ],
            "image/png": "[encoded data removed]"
          },
          "metadata": {
            "needs_background": "light"
          }
        }
      ]
    },
    {
      "cell_type": "code",
      "source": [
        "train_images =train_images/255\n",
        "test_images  =test_images /255\n",
        "train_labels =keras.utils.to_categorical(train_labels, num_classes=10)\n",
        "test_labels  =keras.utils.to_categorical(test_labels , num_classes=10)"
      ],
      "metadata": {
        "id": "Kd7eoH_pbTj-"
      },
      "execution_count": null,
      "outputs": []
    },
    {
      "cell_type": "code",
      "source": [
        "model = Sequential()\n",
        "model.add(keras.layers.Flatten())\n",
        "model.add(Dense(32 , activation='relu', input_dim=10))\n",
        "model.add(Dense(64 , activation='relu'))\n",
        "model.add(Dense(128, activation='relu'))\n",
        "model.add(Dropout(0.5))\n",
        "model.add(Dense(10, activation='softmax'))"
      ],
      "metadata": {
        "id": "StMrb3NgccaF"
      },
      "execution_count": null,
      "outputs": []
    },
    {
      "cell_type": "code",
      "source": [
        "optimizer = Adam(lr=0.0001)\n",
        "model.compile(optimizer, loss='categorical_crossentropy', metrics=['accuracy'])"
      ],
      "metadata": {
        "id": "vgoXelrMc04D",
        "outputId": "c96bbddc-ce55-42ae-aee5-52c744a3311d",
        "colab": {
          "base_uri": "https://localhost:8080/"
        }
      },
      "execution_count": null,
      "outputs": [
        {
          "output_type": "stream",
          "name": "stderr",
          "text": [
            "/usr/local/lib/python3.7/dist-packages/keras/optimizer_v2/adam.py:105: UserWarning: The `lr` argument is deprecated, use `learning_rate` instead.\n",
            "  super(Adam, self).__init__(name, **kwargs)\n"
          ]
        }
      ]
    },
    {
      "cell_type": "code",
      "source": [
        "model.fit(train_images, train_labels,epochs=100,batch_size=32, validation_data=(test_images,test_labels))"
      ],
      "metadata": {
        "id": "TJF6fsAVc_O5",
        "outputId": "3a652b81-93a9-439a-e52e-cac06d982fa3",
        "colab": {
          "base_uri": "https://localhost:8080/"
        }
      },
      "execution_count": null,
      "outputs": [
        {
          "output_type": "stream",
          "name": "stdout",
          "text": [
            "Epoch 1/100\n",
            "1875/1875 [==============================] - 8s 3ms/step - loss: 0.9962 - accuracy: 0.6528 - val_loss: 0.5812 - val_accuracy: 0.7993\n",
            "Epoch 2/100\n",
            "1875/1875 [==============================] - 5s 3ms/step - loss: 0.5795 - accuracy: 0.8012 - val_loss: 0.5053 - val_accuracy: 0.8174\n",
            "Epoch 3/100\n",
            "1875/1875 [==============================] - 5s 3ms/step - loss: 0.5043 - accuracy: 0.8253 - val_loss: 0.4661 - val_accuracy: 0.8300\n",
            "Epoch 4/100\n",
            "1875/1875 [==============================] - 5s 3ms/step - loss: 0.4652 - accuracy: 0.8380 - val_loss: 0.4388 - val_accuracy: 0.8423\n",
            "Epoch 5/100\n",
            "1875/1875 [==============================] - 5s 3ms/step - loss: 0.4387 - accuracy: 0.8465 - val_loss: 0.4286 - val_accuracy: 0.8423\n",
            "Epoch 6/100\n",
            "1875/1875 [==============================] - 5s 3ms/step - loss: 0.4186 - accuracy: 0.8519 - val_loss: 0.4172 - val_accuracy: 0.8479\n",
            "Epoch 7/100\n",
            "1875/1875 [==============================] - 6s 3ms/step - loss: 0.4025 - accuracy: 0.8587 - val_loss: 0.4080 - val_accuracy: 0.8514\n",
            "Epoch 8/100\n",
            "1875/1875 [==============================] - 5s 3ms/step - loss: 0.3931 - accuracy: 0.8616 - val_loss: 0.3957 - val_accuracy: 0.8568\n",
            "Epoch 9/100\n",
            "1875/1875 [==============================] - 5s 3ms/step - loss: 0.3817 - accuracy: 0.8644 - val_loss: 0.3910 - val_accuracy: 0.8568\n",
            "Epoch 10/100\n",
            "1875/1875 [==============================] - 5s 3ms/step - loss: 0.3735 - accuracy: 0.8670 - val_loss: 0.3857 - val_accuracy: 0.8602\n",
            "Epoch 11/100\n",
            "1875/1875 [==============================] - 5s 3ms/step - loss: 0.3664 - accuracy: 0.8697 - val_loss: 0.3802 - val_accuracy: 0.8627\n",
            "Epoch 12/100\n",
            "1875/1875 [==============================] - 5s 3ms/step - loss: 0.3602 - accuracy: 0.8721 - val_loss: 0.3788 - val_accuracy: 0.8634\n",
            "Epoch 13/100\n",
            "1875/1875 [==============================] - 5s 3ms/step - loss: 0.3526 - accuracy: 0.8742 - val_loss: 0.3812 - val_accuracy: 0.8633\n",
            "Epoch 14/100\n",
            "1875/1875 [==============================] - 5s 3ms/step - loss: 0.3464 - accuracy: 0.8760 - val_loss: 0.3764 - val_accuracy: 0.8643\n",
            "Epoch 15/100\n",
            "1875/1875 [==============================] - 5s 3ms/step - loss: 0.3437 - accuracy: 0.8786 - val_loss: 0.3732 - val_accuracy: 0.8636\n",
            "Epoch 16/100\n",
            "1875/1875 [==============================] - 5s 3ms/step - loss: 0.3372 - accuracy: 0.8810 - val_loss: 0.3644 - val_accuracy: 0.8683\n",
            "Epoch 17/100\n",
            "1875/1875 [==============================] - 5s 3ms/step - loss: 0.3329 - accuracy: 0.8812 - val_loss: 0.3690 - val_accuracy: 0.8629\n",
            "Epoch 18/100\n",
            "1875/1875 [==============================] - 5s 3ms/step - loss: 0.3294 - accuracy: 0.8808 - val_loss: 0.3658 - val_accuracy: 0.8671\n",
            "Epoch 19/100\n",
            "1875/1875 [==============================] - 5s 3ms/step - loss: 0.3247 - accuracy: 0.8845 - val_loss: 0.3600 - val_accuracy: 0.8678\n",
            "Epoch 20/100\n",
            "1875/1875 [==============================] - 5s 3ms/step - loss: 0.3197 - accuracy: 0.8842 - val_loss: 0.3623 - val_accuracy: 0.8718\n",
            "Epoch 21/100\n",
            "1875/1875 [==============================] - 5s 3ms/step - loss: 0.3166 - accuracy: 0.8854 - val_loss: 0.3560 - val_accuracy: 0.8715\n",
            "Epoch 22/100\n",
            "1875/1875 [==============================] - 5s 3ms/step - loss: 0.3124 - accuracy: 0.8872 - val_loss: 0.3616 - val_accuracy: 0.8715\n",
            "Epoch 23/100\n",
            "1875/1875 [==============================] - 5s 3ms/step - loss: 0.3097 - accuracy: 0.8881 - val_loss: 0.3528 - val_accuracy: 0.8739\n",
            "Epoch 24/100\n",
            "1875/1875 [==============================] - 5s 3ms/step - loss: 0.3081 - accuracy: 0.8898 - val_loss: 0.3561 - val_accuracy: 0.8728\n",
            "Epoch 25/100\n",
            "1875/1875 [==============================] - 5s 3ms/step - loss: 0.3035 - accuracy: 0.8908 - val_loss: 0.3552 - val_accuracy: 0.8746\n",
            "Epoch 26/100\n",
            "1875/1875 [==============================] - 5s 3ms/step - loss: 0.3004 - accuracy: 0.8915 - val_loss: 0.3542 - val_accuracy: 0.8719\n",
            "Epoch 27/100\n",
            "1875/1875 [==============================] - 5s 3ms/step - loss: 0.2966 - accuracy: 0.8932 - val_loss: 0.3500 - val_accuracy: 0.8739\n",
            "Epoch 28/100\n",
            "1875/1875 [==============================] - 5s 3ms/step - loss: 0.2956 - accuracy: 0.8945 - val_loss: 0.3530 - val_accuracy: 0.8722\n",
            "Epoch 29/100\n",
            "1875/1875 [==============================] - 5s 3ms/step - loss: 0.2930 - accuracy: 0.8940 - val_loss: 0.3502 - val_accuracy: 0.8748\n",
            "Epoch 30/100\n",
            "1875/1875 [==============================] - 5s 3ms/step - loss: 0.2892 - accuracy: 0.8947 - val_loss: 0.3457 - val_accuracy: 0.8767\n",
            "Epoch 31/100\n",
            "1875/1875 [==============================] - 5s 3ms/step - loss: 0.2874 - accuracy: 0.8961 - val_loss: 0.3456 - val_accuracy: 0.8772\n",
            "Epoch 32/100\n",
            "1875/1875 [==============================] - 5s 3ms/step - loss: 0.2825 - accuracy: 0.8985 - val_loss: 0.3466 - val_accuracy: 0.8772\n",
            "Epoch 33/100\n",
            "1875/1875 [==============================] - 5s 3ms/step - loss: 0.2813 - accuracy: 0.8985 - val_loss: 0.3526 - val_accuracy: 0.8772\n",
            "Epoch 34/100\n",
            "1875/1875 [==============================] - 5s 3ms/step - loss: 0.2794 - accuracy: 0.9000 - val_loss: 0.3556 - val_accuracy: 0.8761\n",
            "Epoch 35/100\n",
            "1875/1875 [==============================] - 5s 3ms/step - loss: 0.2769 - accuracy: 0.8989 - val_loss: 0.3446 - val_accuracy: 0.8773\n",
            "Epoch 36/100\n",
            "1875/1875 [==============================] - 5s 3ms/step - loss: 0.2756 - accuracy: 0.8990 - val_loss: 0.3486 - val_accuracy: 0.8768\n",
            "Epoch 37/100\n",
            "1875/1875 [==============================] - 5s 3ms/step - loss: 0.2731 - accuracy: 0.9007 - val_loss: 0.3421 - val_accuracy: 0.8781\n",
            "Epoch 38/100\n",
            "1875/1875 [==============================] - 5s 3ms/step - loss: 0.2712 - accuracy: 0.9024 - val_loss: 0.3437 - val_accuracy: 0.8791\n",
            "Epoch 39/100\n",
            "1875/1875 [==============================] - 5s 3ms/step - loss: 0.2675 - accuracy: 0.9018 - val_loss: 0.3527 - val_accuracy: 0.8757\n",
            "Epoch 40/100\n",
            "1875/1875 [==============================] - 5s 3ms/step - loss: 0.2658 - accuracy: 0.9025 - val_loss: 0.3447 - val_accuracy: 0.8785\n",
            "Epoch 41/100\n",
            "1875/1875 [==============================] - 5s 3ms/step - loss: 0.2643 - accuracy: 0.9036 - val_loss: 0.3495 - val_accuracy: 0.8793\n",
            "Epoch 42/100\n",
            "1875/1875 [==============================] - 5s 3ms/step - loss: 0.2635 - accuracy: 0.9029 - val_loss: 0.3479 - val_accuracy: 0.8784\n",
            "Epoch 43/100\n",
            "1875/1875 [==============================] - 5s 3ms/step - loss: 0.2602 - accuracy: 0.9048 - val_loss: 0.3502 - val_accuracy: 0.8761\n",
            "Epoch 44/100\n",
            "1875/1875 [==============================] - 5s 3ms/step - loss: 0.2598 - accuracy: 0.9047 - val_loss: 0.3418 - val_accuracy: 0.8796\n",
            "Epoch 45/100\n",
            "1875/1875 [==============================] - 5s 3ms/step - loss: 0.2572 - accuracy: 0.9065 - val_loss: 0.3445 - val_accuracy: 0.8795\n",
            "Epoch 46/100\n",
            "1875/1875 [==============================] - 5s 3ms/step - loss: 0.2568 - accuracy: 0.9058 - val_loss: 0.3422 - val_accuracy: 0.8793\n",
            "Epoch 47/100\n",
            "1875/1875 [==============================] - 5s 3ms/step - loss: 0.2540 - accuracy: 0.9065 - val_loss: 0.3411 - val_accuracy: 0.8800\n",
            "Epoch 48/100\n",
            "1875/1875 [==============================] - 5s 3ms/step - loss: 0.2517 - accuracy: 0.9085 - val_loss: 0.3456 - val_accuracy: 0.8820\n",
            "Epoch 49/100\n",
            "1875/1875 [==============================] - 5s 3ms/step - loss: 0.2491 - accuracy: 0.9075 - val_loss: 0.3466 - val_accuracy: 0.8770\n",
            "Epoch 50/100\n",
            "1875/1875 [==============================] - 5s 3ms/step - loss: 0.2480 - accuracy: 0.9090 - val_loss: 0.3494 - val_accuracy: 0.8796\n",
            "Epoch 51/100\n",
            "1875/1875 [==============================] - 5s 3ms/step - loss: 0.2467 - accuracy: 0.9097 - val_loss: 0.3439 - val_accuracy: 0.8818\n",
            "Epoch 52/100\n",
            "1875/1875 [==============================] - 5s 3ms/step - loss: 0.2449 - accuracy: 0.9103 - val_loss: 0.3464 - val_accuracy: 0.8801\n",
            "Epoch 53/100\n",
            "1875/1875 [==============================] - 5s 3ms/step - loss: 0.2448 - accuracy: 0.9097 - val_loss: 0.3555 - val_accuracy: 0.8772\n",
            "Epoch 54/100\n",
            "1875/1875 [==============================] - 5s 3ms/step - loss: 0.2426 - accuracy: 0.9118 - val_loss: 0.3416 - val_accuracy: 0.8826\n",
            "Epoch 55/100\n",
            "1875/1875 [==============================] - 5s 3ms/step - loss: 0.2400 - accuracy: 0.9130 - val_loss: 0.3466 - val_accuracy: 0.8807\n",
            "Epoch 56/100\n",
            "1875/1875 [==============================] - 5s 3ms/step - loss: 0.2385 - accuracy: 0.9118 - val_loss: 0.3558 - val_accuracy: 0.8790\n",
            "Epoch 57/100\n",
            "1875/1875 [==============================] - 5s 3ms/step - loss: 0.2374 - accuracy: 0.9135 - val_loss: 0.3459 - val_accuracy: 0.8803\n",
            "Epoch 58/100\n",
            "1875/1875 [==============================] - 5s 3ms/step - loss: 0.2363 - accuracy: 0.9137 - val_loss: 0.3512 - val_accuracy: 0.8814\n",
            "Epoch 59/100\n",
            "1875/1875 [==============================] - 6s 3ms/step - loss: 0.2352 - accuracy: 0.9141 - val_loss: 0.3547 - val_accuracy: 0.8800\n",
            "Epoch 60/100\n",
            "1875/1875 [==============================] - 5s 3ms/step - loss: 0.2339 - accuracy: 0.9146 - val_loss: 0.3551 - val_accuracy: 0.8807\n",
            "Epoch 61/100\n",
            "1875/1875 [==============================] - 5s 3ms/step - loss: 0.2331 - accuracy: 0.9142 - val_loss: 0.3462 - val_accuracy: 0.8844\n",
            "Epoch 62/100\n",
            "1875/1875 [==============================] - 5s 3ms/step - loss: 0.2297 - accuracy: 0.9159 - val_loss: 0.3634 - val_accuracy: 0.8789\n",
            "Epoch 63/100\n",
            "1875/1875 [==============================] - 5s 3ms/step - loss: 0.2307 - accuracy: 0.9159 - val_loss: 0.3465 - val_accuracy: 0.8804\n",
            "Epoch 64/100\n",
            "1875/1875 [==============================] - 5s 3ms/step - loss: 0.2274 - accuracy: 0.9154 - val_loss: 0.3525 - val_accuracy: 0.8821\n",
            "Epoch 65/100\n",
            "1875/1875 [==============================] - 5s 3ms/step - loss: 0.2257 - accuracy: 0.9169 - val_loss: 0.3542 - val_accuracy: 0.8811\n",
            "Epoch 66/100\n",
            "1875/1875 [==============================] - 5s 3ms/step - loss: 0.2256 - accuracy: 0.9165 - val_loss: 0.3518 - val_accuracy: 0.8816\n",
            "Epoch 67/100\n",
            "1875/1875 [==============================] - 5s 3ms/step - loss: 0.2245 - accuracy: 0.9171 - val_loss: 0.3446 - val_accuracy: 0.8828\n",
            "Epoch 68/100\n",
            "1875/1875 [==============================] - 5s 3ms/step - loss: 0.2222 - accuracy: 0.9184 - val_loss: 0.3580 - val_accuracy: 0.8813\n",
            "Epoch 69/100\n",
            "1875/1875 [==============================] - 5s 3ms/step - loss: 0.2225 - accuracy: 0.9170 - val_loss: 0.3663 - val_accuracy: 0.8796\n",
            "Epoch 70/100\n",
            "1875/1875 [==============================] - 5s 3ms/step - loss: 0.2211 - accuracy: 0.9191 - val_loss: 0.3529 - val_accuracy: 0.8832\n",
            "Epoch 71/100\n",
            "1875/1875 [==============================] - 5s 3ms/step - loss: 0.2184 - accuracy: 0.9182 - val_loss: 0.3569 - val_accuracy: 0.8809\n",
            "Epoch 72/100\n",
            "1875/1875 [==============================] - 5s 3ms/step - loss: 0.2172 - accuracy: 0.9198 - val_loss: 0.3523 - val_accuracy: 0.8812\n",
            "Epoch 73/100\n",
            "1875/1875 [==============================] - 5s 3ms/step - loss: 0.2184 - accuracy: 0.9202 - val_loss: 0.3548 - val_accuracy: 0.8823\n",
            "Epoch 74/100\n",
            "1875/1875 [==============================] - 5s 3ms/step - loss: 0.2168 - accuracy: 0.9203 - val_loss: 0.3558 - val_accuracy: 0.8829\n",
            "Epoch 75/100\n",
            "1875/1875 [==============================] - 5s 3ms/step - loss: 0.2144 - accuracy: 0.9209 - val_loss: 0.3620 - val_accuracy: 0.8805\n",
            "Epoch 76/100\n",
            "1875/1875 [==============================] - 5s 3ms/step - loss: 0.2132 - accuracy: 0.9214 - val_loss: 0.3603 - val_accuracy: 0.8823\n",
            "Epoch 77/100\n",
            "1875/1875 [==============================] - 5s 3ms/step - loss: 0.2138 - accuracy: 0.9200 - val_loss: 0.3581 - val_accuracy: 0.8841\n",
            "Epoch 78/100\n",
            "1875/1875 [==============================] - 5s 3ms/step - loss: 0.2121 - accuracy: 0.9226 - val_loss: 0.3575 - val_accuracy: 0.8835\n",
            "Epoch 79/100\n",
            "1875/1875 [==============================] - 5s 3ms/step - loss: 0.2105 - accuracy: 0.9226 - val_loss: 0.3644 - val_accuracy: 0.8824\n",
            "Epoch 80/100\n",
            "1875/1875 [==============================] - 5s 3ms/step - loss: 0.2094 - accuracy: 0.9228 - val_loss: 0.3586 - val_accuracy: 0.8849\n",
            "Epoch 81/100\n",
            "1875/1875 [==============================] - 5s 3ms/step - loss: 0.2075 - accuracy: 0.9230 - val_loss: 0.3663 - val_accuracy: 0.8833\n",
            "Epoch 82/100\n",
            "1875/1875 [==============================] - 5s 3ms/step - loss: 0.2079 - accuracy: 0.9224 - val_loss: 0.3663 - val_accuracy: 0.8829\n",
            "Epoch 83/100\n",
            "1875/1875 [==============================] - 5s 3ms/step - loss: 0.2067 - accuracy: 0.9238 - val_loss: 0.3648 - val_accuracy: 0.8774\n",
            "Epoch 84/100\n",
            "1875/1875 [==============================] - 5s 3ms/step - loss: 0.2043 - accuracy: 0.9245 - val_loss: 0.3717 - val_accuracy: 0.8804\n",
            "Epoch 85/100\n",
            "1875/1875 [==============================] - 5s 3ms/step - loss: 0.2046 - accuracy: 0.9236 - val_loss: 0.3638 - val_accuracy: 0.8809\n",
            "Epoch 86/100\n",
            "1875/1875 [==============================] - 5s 3ms/step - loss: 0.2019 - accuracy: 0.9247 - val_loss: 0.3687 - val_accuracy: 0.8801\n",
            "Epoch 87/100\n",
            "1875/1875 [==============================] - 5s 3ms/step - loss: 0.2010 - accuracy: 0.9257 - val_loss: 0.3791 - val_accuracy: 0.8838\n",
            "Epoch 88/100\n",
            "1875/1875 [==============================] - 5s 3ms/step - loss: 0.2016 - accuracy: 0.9251 - val_loss: 0.3658 - val_accuracy: 0.8850\n",
            "Epoch 89/100\n",
            "1875/1875 [==============================] - 5s 3ms/step - loss: 0.2004 - accuracy: 0.9250 - val_loss: 0.3699 - val_accuracy: 0.8815\n",
            "Epoch 90/100\n",
            "1875/1875 [==============================] - 5s 3ms/step - loss: 0.1997 - accuracy: 0.9267 - val_loss: 0.3682 - val_accuracy: 0.8798\n",
            "Epoch 91/100\n",
            "1875/1875 [==============================] - 5s 3ms/step - loss: 0.1985 - accuracy: 0.9264 - val_loss: 0.3662 - val_accuracy: 0.8825\n",
            "Epoch 92/100\n",
            "1875/1875 [==============================] - 5s 3ms/step - loss: 0.1968 - accuracy: 0.9261 - val_loss: 0.3740 - val_accuracy: 0.8845\n",
            "Epoch 93/100\n",
            "1875/1875 [==============================] - 5s 3ms/step - loss: 0.1973 - accuracy: 0.9257 - val_loss: 0.3775 - val_accuracy: 0.8820\n",
            "Epoch 94/100\n",
            "1875/1875 [==============================] - 5s 3ms/step - loss: 0.1949 - accuracy: 0.9284 - val_loss: 0.3656 - val_accuracy: 0.8842\n",
            "Epoch 95/100\n",
            "1875/1875 [==============================] - 5s 3ms/step - loss: 0.1947 - accuracy: 0.9281 - val_loss: 0.3852 - val_accuracy: 0.8780\n",
            "Epoch 96/100\n",
            "1875/1875 [==============================] - 5s 3ms/step - loss: 0.1939 - accuracy: 0.9274 - val_loss: 0.3741 - val_accuracy: 0.8836\n",
            "Epoch 97/100\n",
            "1875/1875 [==============================] - 5s 3ms/step - loss: 0.1925 - accuracy: 0.9289 - val_loss: 0.3859 - val_accuracy: 0.8845\n",
            "Epoch 98/100\n",
            "1875/1875 [==============================] - 5s 3ms/step - loss: 0.1927 - accuracy: 0.9287 - val_loss: 0.3755 - val_accuracy: 0.8822\n",
            "Epoch 99/100\n",
            "1875/1875 [==============================] - 5s 3ms/step - loss: 0.1913 - accuracy: 0.9288 - val_loss: 0.3762 - val_accuracy: 0.8826\n",
            "Epoch 100/100\n",
            "1875/1875 [==============================] - 5s 3ms/step - loss: 0.1893 - accuracy: 0.9300 - val_loss: 0.3731 - val_accuracy: 0.8846\n"
          ]
        },
        {
          "output_type": "execute_result",
          "data": {
            "text/plain": [
              "<keras.callbacks.History at 0x7fd65050d8d0>"
            ]
          },
          "metadata": {},
          "execution_count": 30
        }
      ]
    }
  ],
  "metadata": {
    "anaconda-cloud": {},
    "kernelspec": {
      "display_name": "tensorflow",
      "language": "python",
      "name": "tensorflow"
    },
    "language_info": {
      "codemirror_mode": {
        "name": "ipython",
        "version": 3
      },
      "file_extension": ".py",
      "mimetype": "text/x-python",
      "name": "python",
      "nbconvert_exporter": "python",
      "pygments_lexer": "ipython3",
      "version": "3.6.8"
    },
    "nbpresent": {
      "slides": {
        "300ee14f-a043-486e-b274-7ff253907cd7": {
          "id": "300ee14f-a043-486e-b274-7ff253907cd7",
          "prev": "cb74e0bc-4513-4d13-b7f1-14c3078a7927",
          "regions": {
            "26dc3f39-a230-447c-af4c-f5e5b2fb7835": {
              "attrs": {
                "height": 0.8,
                "width": 0.8,
                "x": 0.1,
                "y": 0.1
              },
              "content": {
                "cell": "c58440a5-3f8f-4f37-9c79-6bf766209406",
                "part": "whole"
              },
              "id": "26dc3f39-a230-447c-af4c-f5e5b2fb7835"
            }
          }
        },
        "878aa53a-1444-4100-8f50-7a408191c579": {
          "id": "878aa53a-1444-4100-8f50-7a408191c579",
          "prev": null,
          "regions": {
            "a6c6843a-5ea6-4fbc-b890-3b4b8ae475b3": {
              "attrs": {
                "height": 0.8,
                "width": 0.8,
                "x": 0.1,
                "y": 0.1
              },
              "content": {
                "cell": "588ee1fa-64b5-453b-ade7-8e6b2515821c",
                "part": "whole"
              },
              "id": "a6c6843a-5ea6-4fbc-b890-3b4b8ae475b3"
            }
          }
        },
        "96ffe88e-7b50-43de-afdd-942e564f4e3e": {
          "id": "96ffe88e-7b50-43de-afdd-942e564f4e3e",
          "prev": "878aa53a-1444-4100-8f50-7a408191c579",
          "regions": {
            "b7e52e12-489a-468d-b10c-af2024fd2856": {
              "attrs": {
                "height": 0.8,
                "width": 0.8,
                "x": 0.1,
                "y": 0.1
              },
              "content": {
                "cell": "de829a92-1fb6-44ad-a2c6-fc1001e1f6e1",
                "part": "whole"
              },
              "id": "b7e52e12-489a-468d-b10c-af2024fd2856"
            }
          }
        },
        "cb74e0bc-4513-4d13-b7f1-14c3078a7927": {
          "id": "cb74e0bc-4513-4d13-b7f1-14c3078a7927",
          "prev": "96ffe88e-7b50-43de-afdd-942e564f4e3e",
          "regions": {
            "444878ee-68f3-4abb-acff-a7079b21e86d": {
              "attrs": {
                "height": 0.8,
                "width": 0.8,
                "x": 0.1,
                "y": 0.1
              },
              "content": {
                "cell": "25f3f538-1ee8-4d98-a6bb-14cbeb7a702d",
                "part": "whole"
              },
              "id": "444878ee-68f3-4abb-acff-a7079b21e86d"
            }
          }
        }
      },
      "themes": {}
    },
    "colab": {
      "name": "1-2_a Fully Connected classifier on Fashion MNIST Dataset.ipynb",
      "provenance": [],
      "collapsed_sections": [],
      "include_colab_link": true
    },
    "accelerator": "GPU",
    "gpuClass": "standard"
  },
  "nbformat": 4,
  "nbformat_minor": 0
}