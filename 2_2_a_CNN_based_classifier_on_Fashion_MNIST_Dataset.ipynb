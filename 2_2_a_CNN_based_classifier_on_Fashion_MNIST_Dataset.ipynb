{
  "cells": [
    {
      "cell_type": "markdown",
      "metadata": {
        "id": "view-in-github",
        "colab_type": "text"
      },
      "source": [
        "<a href=\"https://colab.research.google.com/github/yasinazhdari/Intro-to-Tensorflow-Simple-Classification-with-fully-connected-networks-on-IRIS-data-set-/blob/main/2_2_a_CNN_based_classifier_on_Fashion_MNIST_Dataset.ipynb\" target=\"_parent\"><img src=\"https://colab.research.google.com/assets/colab-badge.svg\" alt=\"Open In Colab\"/></a>"
      ]
    },
    {
      "cell_type": "markdown",
      "source": [
        "**a CNN-based classifier on Fashion MNIST Dataset.**"
      ],
      "metadata": {
        "id": "dUVGnGA9X2YN"
      }
    },
    {
      "cell_type": "code",
      "execution_count": 11,
      "metadata": {
        "nbpresent": {
          "id": "de829a92-1fb6-44ad-a2c6-fc1001e1f6e1"
        },
        "id": "UcwFaOjHXvxB"
      },
      "outputs": [],
      "source": [
        "import numpy as  np\n",
        "from tensorflow  import keras\n",
        "from sklearn.datasets import       load_iris\n",
        "from sklearn.model_selection import  train_test_split\n",
        "from keras.models import Sequential\n",
        "from keras.layers import Dense,Dropout,Conv2D,Flatten,MaxPooling2D\n",
        "from tensorflow.keras.optimizers import Adam"
      ]
    },
    {
      "cell_type": "code",
      "source": [
        "fashion_mnist = keras.datasets.fashion_mnist\n",
        "(train_images, train_labels), (test_images, test_labels) = fashion_mnist.load_data()"
      ],
      "metadata": {
        "id": "Yyh7666JYY-x",
        "outputId": "2b30cf98-3b66-4f83-b4b8-d78415e3ebec",
        "colab": {
          "base_uri": "https://localhost:8080/"
        }
      },
      "execution_count": 2,
      "outputs": [
        {
          "output_type": "stream",
          "name": "stdout",
          "text": [
            "Downloading data from https://storage.googleapis.com/tensorflow/tf-keras-datasets/train-labels-idx1-ubyte.gz\n",
            "32768/29515 [=================================] - 0s 0us/step\n",
            "40960/29515 [=========================================] - 0s 0us/step\n",
            "Downloading data from https://storage.googleapis.com/tensorflow/tf-keras-datasets/train-images-idx3-ubyte.gz\n",
            "26427392/26421880 [==============================] - 0s 0us/step\n",
            "26435584/26421880 [==============================] - 0s 0us/step\n",
            "Downloading data from https://storage.googleapis.com/tensorflow/tf-keras-datasets/t10k-labels-idx1-ubyte.gz\n",
            "16384/5148 [===============================================================================================] - 0s 0us/step\n",
            "Downloading data from https://storage.googleapis.com/tensorflow/tf-keras-datasets/t10k-images-idx3-ubyte.gz\n",
            "4423680/4422102 [==============================] - 0s 0us/step\n",
            "4431872/4422102 [==============================] - 0s 0us/step\n"
          ]
        }
      ]
    },
    {
      "cell_type": "code",
      "source": [
        "np.unique(train_labels)"
      ],
      "metadata": {
        "id": "UlHBiZoKZFkr",
        "outputId": "b80bbb66-d5bb-4dc6-c510-332f6209c5d7",
        "colab": {
          "base_uri": "https://localhost:8080/"
        }
      },
      "execution_count": 3,
      "outputs": [
        {
          "output_type": "execute_result",
          "data": {
            "text/plain": [
              "array([0, 1, 2, 3, 4, 5, 6, 7, 8, 9], dtype=uint8)"
            ]
          },
          "metadata": {},
          "execution_count": 3
        }
      ]
    },
    {
      "cell_type": "code",
      "source": [
        "print(train_images.shape)\n",
        "print(test_images.shape )\n",
        "print(train_labels.shape)\n",
        "print(test_labels.shape )"
      ],
      "metadata": {
        "id": "QeCv4-y9Zl69",
        "outputId": "79348560-7ef3-444b-84da-f53f3f39959b",
        "colab": {
          "base_uri": "https://localhost:8080/"
        }
      },
      "execution_count": 4,
      "outputs": [
        {
          "output_type": "stream",
          "name": "stdout",
          "text": [
            "(60000, 28, 28)\n",
            "(10000, 28, 28)\n",
            "(60000,)\n",
            "(10000,)\n"
          ]
        }
      ]
    },
    {
      "cell_type": "code",
      "source": [
        "import matplotlib.pyplot as plt"
      ],
      "metadata": {
        "id": "6HlhugFYZ4-r"
      },
      "execution_count": 5,
      "outputs": []
    },
    {
      "cell_type": "code",
      "source": [
        "from random     import randint\n",
        "from matplotlib import  figure\n",
        "for i in range(10):\n",
        "  figure,\n",
        "  plt.imshow(train_images[randint(1,60000)], cmap='gray')\n",
        "  plt.show()"
      ],
      "metadata": {
        "id": "jmmvCgVHZW-z",
        "outputId": "3c3415ff-4bb5-4b54-8bc8-a65ab5b0ed2a",
        "colab": {
          "base_uri": "https://localhost:8080/",
          "height": 1000
        }
      },
      "execution_count": 6,
      "outputs": [
        {
          "output_type": "display_data",
          "data": {
            "text/plain": [
              "<Figure size 432x288 with 1 Axes>"
            ],
            "image/png": "[encoded data removed]"
          },
          "metadata": {
            "needs_background": "light"
          }
        },
        {
          "output_type": "display_data",
          "data": {
            "text/plain": [
              "<Figure size 432x288 with 1 Axes>"
            ],
            "image/png": "[encoded data removed]"
          },
          "metadata": {
            "needs_background": "light"
          }
        },
        {
          "output_type": "display_data",
          "data": {
            "text/plain": [
              "<Figure size 432x288 with 1 Axes>"
            ],
            "image/png": "[encoded data removed]"
          },
          "metadata": {
            "needs_background": "light"
          }
        },
        {
          "output_type": "display_data",
          "data": {
            "text/plain": [
              "<Figure size 432x288 with 1 Axes>"
            ],
            "image/png": "[encoded data removed]"
          },
          "metadata": {
            "needs_background": "light"
          }
        },
        {
          "output_type": "display_data",
          "data": {
            "text/plain": [
              "<Figure size 432x288 with 1 Axes>"
            ],
            "image/png": "[encoded data removed]"
          },
          "metadata": {
            "needs_background": "light"
          }
        },
        {
          "output_type": "display_data",
          "data": {
            "text/plain": [
              "<Figure size 432x288 with 1 Axes>"
            ],
            "image/png": "[encoded data removed]"
          },
          "metadata": {
            "needs_background": "light"
          }
        },
        {
          "output_type": "display_data",
          "data": {
            "text/plain": [
              "<Figure size 432x288 with 1 Axes>"
            ],
            "image/png": "[encoded data removed]"
          },
          "metadata": {
            "needs_background": "light"
          }
        },
        {
          "output_type": "display_data",
          "data": {
            "text/plain": [
              "<Figure size 432x288 with 1 Axes>"
            ],
            "image/png": "[encoded data removed]"
          },
          "metadata": {
            "needs_background": "light"
          }
        },
        {
          "output_type": "display_data",
          "data": {
            "text/plain": [
              "<Figure size 432x288 with 1 Axes>"
            ],
            "image/png": "[encoded data removed]"
          },
          "metadata": {
            "needs_background": "light"
          }
        },
        {
          "output_type": "display_data",
          "data": {
            "text/plain": [
              "<Figure size 432x288 with 1 Axes>"
            ],
            "image/png": "[encoded data removed]"
          },
          "metadata": {
            "needs_background": "light"
          }
        }
      ]
    },
    {
      "cell_type": "code",
      "source": [
        "train_images =train_images/255\n",
        "test_images  =test_images /255\n",
        "train_labels =keras.utils.to_categorical(train_labels, num_classes=10)\n",
        "test_labels  =keras.utils.to_categorical(test_labels , num_classes=10)"
      ],
      "metadata": {
        "id": "Kd7eoH_pbTj-"
      },
      "execution_count": 7,
      "outputs": []
    },
    {
      "cell_type": "code",
      "source": [
        "model = Sequential()\n",
        "model.add(Conv2D(16, (3, 3), activation='relu',input_shape=(28,28,1)))\n",
        "model.add(MaxPooling2D((2, 2)))\n",
        "model.add(Conv2D(32, (3, 3), activation='relu'))\n",
        "model.add(MaxPooling2D((2, 2)))\n",
        "model.add(Conv2D(32, (3, 3), activation='relu'))\n",
        "model.add(MaxPooling2D((2, 2)))\n",
        "model.add(Flatten())\n",
        "model.add(Dropout(0.5))\n",
        "model.add(Dense(10, activation='softmax'))"
      ],
      "metadata": {
        "id": "StMrb3NgccaF"
      },
      "execution_count": 13,
      "outputs": []
    },
    {
      "cell_type": "code",
      "source": [
        "optimizer = Adam(lr=0.0001)\n",
        "model.compile(optimizer, loss='categorical_crossentropy', metrics=['accuracy'])"
      ],
      "metadata": {
        "id": "vgoXelrMc04D",
        "outputId": "3a922b5e-c5aa-4497-8b41-c531d7da10e9",
        "colab": {
          "base_uri": "https://localhost:8080/"
        }
      },
      "execution_count": 14,
      "outputs": [
        {
          "output_type": "stream",
          "name": "stderr",
          "text": [
            "/usr/local/lib/python3.7/dist-packages/keras/optimizer_v2/adam.py:105: UserWarning: The `lr` argument is deprecated, use `learning_rate` instead.\n",
            "  super(Adam, self).__init__(name, **kwargs)\n"
          ]
        }
      ]
    },
    {
      "cell_type": "code",
      "source": [
        "model.fit(train_images, train_labels,epochs=25,batch_size=32, validation_data=(test_images,test_labels))"
      ],
      "metadata": {
        "id": "TJF6fsAVc_O5",
        "outputId": "80c76c06-c69b-4047-ff7f-f342df44bea4",
        "colab": {
          "base_uri": "https://localhost:8080/"
        }
      },
      "execution_count": 15,
      "outputs": [
        {
          "output_type": "stream",
          "name": "stdout",
          "text": [
            "Epoch 1/25\n",
            "1875/1875 [==============================] - 18s 4ms/step - loss: 1.4658 - accuracy: 0.4646 - val_loss: 0.8765 - val_accuracy: 0.7153\n",
            "Epoch 2/25\n",
            "1875/1875 [==============================] - 7s 4ms/step - loss: 1.0024 - accuracy: 0.6349 - val_loss: 0.7398 - val_accuracy: 0.7412\n",
            "Epoch 3/25\n",
            "1875/1875 [==============================] - 7s 3ms/step - loss: 0.9036 - accuracy: 0.6679 - val_loss: 0.6818 - val_accuracy: 0.7528\n",
            "Epoch 4/25\n",
            "1875/1875 [==============================] - 6s 3ms/step - loss: 0.8494 - accuracy: 0.6888 - val_loss: 0.6541 - val_accuracy: 0.7647\n",
            "Epoch 5/25\n",
            "1875/1875 [==============================] - 6s 3ms/step - loss: 0.8191 - accuracy: 0.6992 - val_loss: 0.6373 - val_accuracy: 0.7692\n",
            "Epoch 6/25\n",
            "1875/1875 [==============================] - 8s 4ms/step - loss: 0.7958 - accuracy: 0.7066 - val_loss: 0.6187 - val_accuracy: 0.7758\n",
            "Epoch 7/25\n",
            "1875/1875 [==============================] - 7s 3ms/step - loss: 0.7769 - accuracy: 0.7136 - val_loss: 0.6043 - val_accuracy: 0.7785\n",
            "Epoch 8/25\n",
            "1875/1875 [==============================] - 6s 3ms/step - loss: 0.7577 - accuracy: 0.7205 - val_loss: 0.5964 - val_accuracy: 0.7808\n",
            "Epoch 9/25\n",
            "1875/1875 [==============================] - 7s 4ms/step - loss: 0.7464 - accuracy: 0.7239 - val_loss: 0.5811 - val_accuracy: 0.7914\n",
            "Epoch 10/25\n",
            "1875/1875 [==============================] - 6s 3ms/step - loss: 0.7294 - accuracy: 0.7308 - val_loss: 0.5762 - val_accuracy: 0.7898\n",
            "Epoch 11/25\n",
            "1875/1875 [==============================] - 6s 3ms/step - loss: 0.7270 - accuracy: 0.7326 - val_loss: 0.5672 - val_accuracy: 0.7979\n",
            "Epoch 12/25\n",
            "1875/1875 [==============================] - 7s 4ms/step - loss: 0.7114 - accuracy: 0.7376 - val_loss: 0.5573 - val_accuracy: 0.7939\n",
            "Epoch 13/25\n",
            "1875/1875 [==============================] - 7s 4ms/step - loss: 0.6978 - accuracy: 0.7433 - val_loss: 0.5522 - val_accuracy: 0.8002\n",
            "Epoch 14/25\n",
            "1875/1875 [==============================] - 7s 4ms/step - loss: 0.6944 - accuracy: 0.7444 - val_loss: 0.5465 - val_accuracy: 0.8041\n",
            "Epoch 15/25\n",
            "1875/1875 [==============================] - 7s 3ms/step - loss: 0.6922 - accuracy: 0.7469 - val_loss: 0.5368 - val_accuracy: 0.8073\n",
            "Epoch 16/25\n",
            "1875/1875 [==============================] - 6s 3ms/step - loss: 0.6803 - accuracy: 0.7511 - val_loss: 0.5332 - val_accuracy: 0.8109\n",
            "Epoch 17/25\n",
            "1875/1875 [==============================] - 7s 4ms/step - loss: 0.6721 - accuracy: 0.7546 - val_loss: 0.5284 - val_accuracy: 0.8135\n",
            "Epoch 18/25\n",
            "1875/1875 [==============================] - 7s 4ms/step - loss: 0.6640 - accuracy: 0.7589 - val_loss: 0.5182 - val_accuracy: 0.8142\n",
            "Epoch 19/25\n",
            "1875/1875 [==============================] - 7s 4ms/step - loss: 0.6525 - accuracy: 0.7613 - val_loss: 0.5121 - val_accuracy: 0.8169\n",
            "Epoch 20/25\n",
            "1875/1875 [==============================] - 6s 3ms/step - loss: 0.6461 - accuracy: 0.7636 - val_loss: 0.5096 - val_accuracy: 0.8177\n",
            "Epoch 21/25\n",
            "1875/1875 [==============================] - 7s 3ms/step - loss: 0.6422 - accuracy: 0.7678 - val_loss: 0.5063 - val_accuracy: 0.8203\n",
            "Epoch 22/25\n",
            "1875/1875 [==============================] - 6s 3ms/step - loss: 0.6279 - accuracy: 0.7701 - val_loss: 0.5031 - val_accuracy: 0.8176\n",
            "Epoch 23/25\n",
            "1875/1875 [==============================] - 7s 3ms/step - loss: 0.6204 - accuracy: 0.7750 - val_loss: 0.4933 - val_accuracy: 0.8207\n",
            "Epoch 24/25\n",
            "1875/1875 [==============================] - 7s 3ms/step - loss: 0.6178 - accuracy: 0.7764 - val_loss: 0.4898 - val_accuracy: 0.8231\n",
            "Epoch 25/25\n",
            "1875/1875 [==============================] - 6s 3ms/step - loss: 0.6118 - accuracy: 0.7781 - val_loss: 0.4846 - val_accuracy: 0.8254\n"
          ]
        },
        {
          "output_type": "execute_result",
          "data": {
            "text/plain": [
              "<keras.callbacks.History at 0x7f591033cc90>"
            ]
          },
          "metadata": {},
          "execution_count": 15
        }
      ]
    }
  ],
  "metadata": {
    "anaconda-cloud": {},
    "kernelspec": {
      "display_name": "tensorflow",
      "language": "python",
      "name": "tensorflow"
    },
    "language_info": {
      "codemirror_mode": {
        "name": "ipython",
        "version": 3
      },
      "file_extension": ".py",
      "mimetype": "text/x-python",
      "name": "python",
      "nbconvert_exporter": "python",
      "pygments_lexer": "ipython3",
      "version": "3.6.8"
    },
    "nbpresent": {
      "slides": {
        "300ee14f-a043-486e-b274-7ff253907cd7": {
          "id": "300ee14f-a043-486e-b274-7ff253907cd7",
          "prev": "cb74e0bc-4513-4d13-b7f1-14c3078a7927",
          "regions": {
            "26dc3f39-a230-447c-af4c-f5e5b2fb7835": {
              "attrs": {
                "height": 0.8,
                "width": 0.8,
                "x": 0.1,
                "y": 0.1
              },
              "content": {
                "cell": "c58440a5-3f8f-4f37-9c79-6bf766209406",
                "part": "whole"
              },
              "id": "26dc3f39-a230-447c-af4c-f5e5b2fb7835"
            }
          }
        },
        "878aa53a-1444-4100-8f50-7a408191c579": {
          "id": "878aa53a-1444-4100-8f50-7a408191c579",
          "prev": null,
          "regions": {
            "a6c6843a-5ea6-4fbc-b890-3b4b8ae475b3": {
              "attrs": {
                "height": 0.8,
                "width": 0.8,
                "x": 0.1,
                "y": 0.1
              },
              "content": {
                "cell": "588ee1fa-64b5-453b-ade7-8e6b2515821c",
                "part": "whole"
              },
              "id": "a6c6843a-5ea6-4fbc-b890-3b4b8ae475b3"
            }
          }
        },
        "96ffe88e-7b50-43de-afdd-942e564f4e3e": {
          "id": "96ffe88e-7b50-43de-afdd-942e564f4e3e",
          "prev": "878aa53a-1444-4100-8f50-7a408191c579",
          "regions": {
            "b7e52e12-489a-468d-b10c-af2024fd2856": {
              "attrs": {
                "height": 0.8,
                "width": 0.8,
                "x": 0.1,
                "y": 0.1
              },
              "content": {
                "cell": "de829a92-1fb6-44ad-a2c6-fc1001e1f6e1",
                "part": "whole"
              },
              "id": "b7e52e12-489a-468d-b10c-af2024fd2856"
            }
          }
        },
        "cb74e0bc-4513-4d13-b7f1-14c3078a7927": {
          "id": "cb74e0bc-4513-4d13-b7f1-14c3078a7927",
          "prev": "96ffe88e-7b50-43de-afdd-942e564f4e3e",
          "regions": {
            "444878ee-68f3-4abb-acff-a7079b21e86d": {
              "attrs": {
                "height": 0.8,
                "width": 0.8,
                "x": 0.1,
                "y": 0.1
              },
              "content": {
                "cell": "25f3f538-1ee8-4d98-a6bb-14cbeb7a702d",
                "part": "whole"
              },
              "id": "444878ee-68f3-4abb-acff-a7079b21e86d"
            }
          }
        }
      },
      "themes": {}
    },
    "colab": {
      "name": "2-2_a CNN-based classifier on Fashion MNIST Dataset.ipynb",
      "provenance": [],
      "collapsed_sections": [],
      "include_colab_link": true
    },
    "accelerator": "GPU",
    "gpuClass": "standard"
  },
  "nbformat": 4,
  "nbformat_minor": 0
}