{
 "cells": [
  {
   "cell_type": "markdown",
   "metadata": {
    "id": "h_X0RlJrXpPr"
   },
   "source": [
    "<h1><center><div style=\"direction:rtl;font-family:B Lotus, B Nazanin, Tahoma\"> Classification with fully connected networks on IRIS data set (step by step implementation)</div></center></h1>"
   ]
  },
  {
   "cell_type": "code",
   "execution_count": null,
   "metadata": {
    "id": "e1JJlhOMXpP3"
   },
   "outputs": [],
   "source": [
    "# importing required libraries, other libraries will be included in case through out the note book.\n",
    "import numpy as np\n",
    "from tensorflow  import keras\n",
    "from sklearn.datasets import load_iris\n",
    "from sklearn.model_selection import train_test_split\n",
    "from keras.models import Sequential\n",
    "from keras.layers import Dense, Dropout\n",
    "from tensorflow.keras.optimizers import Adam"
   ]
  },
  {
   "cell_type": "markdown",
   "metadata": {},
   "source": [
    "<div style =\"direction:ltr;text-align:left;font-family:Tahoma\">\n",
    "<br>\n",
    "Additional information on the IRIS data set which is consisted of 4-dimensional features and 3 output classes is available at: \n",
    "<br>\n",
    "</div>\n",
    "\n",
    "\n",
    "https://archive.ics.uci.edu/ml/datasets/iris"
   ]
  },
  {
   "cell_type": "code",
   "execution_count": null,
   "metadata": {
    "id": "L6-sSFc5XpP6"
   },
   "outputs": [],
   "source": [
    "# Next, loading the data set and performing preliminaries.\n",
    "iris_data = load_iris()             # load the iris dataset\n",
    "x = iris_data.data\n",
    "y = iris_data.target.reshape(-1, 1) # Convert data to a single column"
   ]
  },
  {
   "cell_type": "code",
   "execution_count": null,
   "metadata": {
    "id": "Paxu3D_CXpP8"
   },
   "outputs": [],
   "source": [
    "# one-hot coding the corresponding multi class labels.\n",
    "y =  keras.utils.to_categorical(y, num_classes=3)"
   ]
  },
  {
   "cell_type": "code",
   "execution_count": null,
   "metadata": {
    "id": "5ypVZ5kRejr3"
   },
   "outputs": [],
   "source": [
    "import pandas as pd"
   ]
  },
  {
   "cell_type": "code",
   "execution_count": null,
   "metadata": {
    "colab": {
     "base_uri": "https://localhost:8080/"
    },
    "id": "C7IqdjGafWOl",
    "outputId": "ea87f25f-bd91-45be-f61b-c2847405a087"
   },
   "outputs": [
    {
     "data": {
      "text/plain": [
       "(150, 4)"
      ]
     },
     "execution_count": 13,
     "metadata": {},
     "output_type": "execute_result"
    }
   ],
   "source": [
    "x.shape"
   ]
  },
  {
   "cell_type": "code",
   "execution_count": null,
   "metadata": {
    "colab": {
     "base_uri": "https://localhost:8080/"
    },
    "id": "8dtIVyo5fWBX",
    "outputId": "9ada0219-3aa7-45ec-94b7-5dd20ee99c4a"
   },
   "outputs": [
    {
     "data": {
      "text/plain": [
       "(150, 3)"
      ]
     },
     "execution_count": 14,
     "metadata": {},
     "output_type": "execute_result"
    }
   ],
   "source": [
    "y.shape"
   ]
  },
  {
   "cell_type": "code",
   "execution_count": null,
   "metadata": {
    "id": "tBCQK-8_XpP9"
   },
   "outputs": [],
   "source": [
    "# Split the data for training and testing objectives.\n",
    "train_x, test_x, train_y, test_y = train_test_split(x, y, test_size=0.20)"
   ]
  },
  {
   "cell_type": "markdown",
   "metadata": {},
   "source": [
    "# <div style=\"direction:ltr;text-align:left;font-family:Tahoma\">Building the model of a fully connected neural network with the following architecture:</div>\n",
    "<div style=\"direction:ltr;text-align:left;font-family:Tahoma\">\n",
    "<ul>\n",
    "    <li>\n",
    "    a fully connected layer with 10 units (neurons), and ReLU activation function.    </li>\n",
    "    <li>\n",
    "    a fully connected layer with 10 units (neurons), and ReLU activation function.    </li>\n",
    "    <li>\n",
    "    a Drop out layer with the rate of 0.5 before the final softmax layer.\n",
    "    <li>\n",
    "    finally, a softmax output layer for evaluation of output probabilities.\n",
    "    </li>    \n",
    " \n",
    "</ul>\n",
    "</div>"
   ]
  },
  {
   "cell_type": "code",
   "execution_count": null,
   "metadata": {
    "id": "vJnU5qpzXpP-"
   },
   "outputs": [],
   "source": [
    "# Building the model, which consists of two hidden layers, each with 10 units (neurons)\n",
    "#and ReLU activation functions.\n",
    "# Also, there is a drop out layer with the rate of 0.5 before the final softmax layer.\n",
    "model = Sequential()\n",
    "model.add(Dense(10, activation='relu', input_dim=4))\n",
    "model.add(Dense(10, activation='relu'))\n",
    "model.add(Dropout(0.5))\n",
    "model.add(Dense(3, activation='softmax'))"
   ]
  },
  {
   "cell_type": "code",
   "execution_count": null,
   "metadata": {
    "colab": {
     "base_uri": "https://localhost:8080/"
    },
    "id": "IooFrBPcXpP_",
    "outputId": "1eae3ed4-ed42-4d0a-c36d-ee8274ca19a0"
   },
   "outputs": [
    {
     "name": "stdout",
     "output_type": "stream",
     "text": [
      "Model: \"sequential\"\n",
      "_________________________________________________________________\n",
      " Layer (type)                Output Shape              Param #   \n",
      "=================================================================\n",
      " dense (Dense)               (None, 10)                50        \n",
      "                                                                 \n",
      " dense_1 (Dense)             (None, 10)                110       \n",
      "                                                                 \n",
      " dropout (Dropout)           (None, 10)                0         \n",
      "                                                                 \n",
      " dense_2 (Dense)             (None, 3)                 33        \n",
      "                                                                 \n",
      "=================================================================\n",
      "Total params: 193\n",
      "Trainable params: 193\n",
      "Non-trainable params: 0\n",
      "_________________________________________________________________\n"
     ]
    }
   ],
   "source": [
    "model.summary()"
   ]
  },
  {
   "cell_type": "code",
   "execution_count": null,
   "metadata": {
    "colab": {
     "base_uri": "https://localhost:8080/"
    },
    "id": "4YzYp5A4XpP_",
    "outputId": "8146d685-8da1-4c51-9a1b-075b97675b51"
   },
   "outputs": [
    {
     "name": "stderr",
     "output_type": "stream",
     "text": [
      "/usr/local/lib/python3.7/dist-packages/keras/optimizer_v2/adam.py:105: UserWarning: The `lr` argument is deprecated, use `learning_rate` instead.\n",
      "  super(Adam, self).__init__(name, **kwargs)\n"
     ]
    }
   ],
   "source": [
    "# Compiling the model with Adam optimizer with learning rate of 0.001\n",
    "optimizer = Adam(lr=0.001)\n",
    "model.compile(optimizer, loss='categorical_crossentropy', metrics=['accuracy'])"
   ]
  },
  {
   "cell_type": "code",
   "execution_count": null,
   "metadata": {
    "colab": {
     "base_uri": "https://localhost:8080/"
    },
    "id": "BCcDcNR3XpQA",
    "outputId": "07daf6be-ef2d-4277-9c7e-0fdfb40410de"
   },
   "outputs": [
    {
     "name": "stdout",
     "output_type": "stream",
     "text": [
      "Epoch 1/200\n",
      "24/24 [==============================] - 1s 2ms/step - loss: 2.4643 - accuracy: 0.3083\n",
      "Epoch 2/200\n",
      "24/24 [==============================] - 0s 2ms/step - loss: 1.9965 - accuracy: 0.3000\n",
      "Epoch 3/200\n",
      "24/24 [==============================] - 0s 1ms/step - loss: 1.3463 - accuracy: 0.3667\n",
      "Epoch 4/200\n",
      "24/24 [==============================] - 0s 1ms/step - loss: 1.0430 - accuracy: 0.4333\n",
      "Epoch 5/200\n",
      "24/24 [==============================] - 0s 1ms/step - loss: 1.1069 - accuracy: 0.3833\n",
      "Epoch 6/200\n",
      "24/24 [==============================] - 0s 1ms/step - loss: 0.9747 - accuracy: 0.4917\n",
      "Epoch 7/200\n",
      "24/24 [==============================] - 0s 1ms/step - loss: 0.9557 - accuracy: 0.5250\n",
      "Epoch 8/200\n",
      "24/24 [==============================] - 0s 2ms/step - loss: 0.9107 - accuracy: 0.5000\n",
      "Epoch 9/200\n",
      "24/24 [==============================] - 0s 2ms/step - loss: 0.8748 - accuracy: 0.4667\n",
      "Epoch 10/200\n",
      "24/24 [==============================] - 0s 1ms/step - loss: 0.8005 - accuracy: 0.5917\n",
      "Epoch 11/200\n",
      "24/24 [==============================] - 0s 1ms/step - loss: 0.7736 - accuracy: 0.6000\n",
      "Epoch 12/200\n",
      "24/24 [==============================] - 0s 2ms/step - loss: 0.7438 - accuracy: 0.5917\n",
      "Epoch 13/200\n",
      "24/24 [==============================] - 0s 2ms/step - loss: 0.7387 - accuracy: 0.6250\n",
      "Epoch 14/200\n",
      "24/24 [==============================] - 0s 2ms/step - loss: 0.7271 - accuracy: 0.6250\n",
      "Epoch 15/200\n",
      "24/24 [==============================] - 0s 2ms/step - loss: 0.7179 - accuracy: 0.6083\n",
      "Epoch 16/200\n",
      "24/24 [==============================] - 0s 1ms/step - loss: 0.6706 - accuracy: 0.6250\n",
      "Epoch 17/200\n",
      "24/24 [==============================] - 0s 2ms/step - loss: 0.6101 - accuracy: 0.7083\n",
      "Epoch 18/200\n",
      "24/24 [==============================] - 0s 2ms/step - loss: 0.6121 - accuracy: 0.7000\n",
      "Epoch 19/200\n",
      "24/24 [==============================] - 0s 2ms/step - loss: 0.6957 - accuracy: 0.6167\n",
      "Epoch 20/200\n",
      "24/24 [==============================] - 0s 2ms/step - loss: 0.6295 - accuracy: 0.7750\n",
      "Epoch 21/200\n",
      "24/24 [==============================] - 0s 2ms/step - loss: 0.6604 - accuracy: 0.7167\n",
      "Epoch 22/200\n",
      "24/24 [==============================] - 0s 2ms/step - loss: 0.6484 - accuracy: 0.7333\n",
      "Epoch 23/200\n",
      "24/24 [==============================] - 0s 2ms/step - loss: 0.5972 - accuracy: 0.7417\n",
      "Epoch 24/200\n",
      "24/24 [==============================] - 0s 2ms/step - loss: 0.5333 - accuracy: 0.8167\n",
      "Epoch 25/200\n",
      "24/24 [==============================] - 0s 2ms/step - loss: 0.5661 - accuracy: 0.7417\n",
      "Epoch 26/200\n",
      "24/24 [==============================] - 0s 2ms/step - loss: 0.5538 - accuracy: 0.7500\n",
      "Epoch 27/200\n",
      "24/24 [==============================] - 0s 1ms/step - loss: 0.5498 - accuracy: 0.7833\n",
      "Epoch 28/200\n",
      "24/24 [==============================] - 0s 2ms/step - loss: 0.5025 - accuracy: 0.8000\n",
      "Epoch 29/200\n",
      "24/24 [==============================] - 0s 2ms/step - loss: 0.5847 - accuracy: 0.7250\n",
      "Epoch 30/200\n",
      "24/24 [==============================] - 0s 2ms/step - loss: 0.5320 - accuracy: 0.7833\n",
      "Epoch 31/200\n",
      "24/24 [==============================] - 0s 2ms/step - loss: 0.5568 - accuracy: 0.7333\n",
      "Epoch 32/200\n",
      "24/24 [==============================] - 0s 1ms/step - loss: 0.5179 - accuracy: 0.8167\n",
      "Epoch 33/200\n",
      "24/24 [==============================] - 0s 1ms/step - loss: 0.5039 - accuracy: 0.7833\n",
      "Epoch 34/200\n",
      "24/24 [==============================] - 0s 2ms/step - loss: 0.5727 - accuracy: 0.7417\n",
      "Epoch 35/200\n",
      "24/24 [==============================] - 0s 1ms/step - loss: 0.5042 - accuracy: 0.7750\n",
      "Epoch 36/200\n",
      "24/24 [==============================] - 0s 2ms/step - loss: 0.4934 - accuracy: 0.7500\n",
      "Epoch 37/200\n",
      "24/24 [==============================] - 0s 2ms/step - loss: 0.4847 - accuracy: 0.7583\n",
      "Epoch 38/200\n",
      "24/24 [==============================] - 0s 1ms/step - loss: 0.4684 - accuracy: 0.7917\n",
      "Epoch 39/200\n",
      "24/24 [==============================] - 0s 1ms/step - loss: 0.5373 - accuracy: 0.7250\n",
      "Epoch 40/200\n",
      "24/24 [==============================] - 0s 1ms/step - loss: 0.4586 - accuracy: 0.7917\n",
      "Epoch 41/200\n",
      "24/24 [==============================] - 0s 1ms/step - loss: 0.4506 - accuracy: 0.8167\n",
      "Epoch 42/200\n",
      "24/24 [==============================] - 0s 2ms/step - loss: 0.5096 - accuracy: 0.7333\n",
      "Epoch 43/200\n",
      "24/24 [==============================] - 0s 2ms/step - loss: 0.4662 - accuracy: 0.7583\n",
      "Epoch 44/200\n",
      "24/24 [==============================] - 0s 1ms/step - loss: 0.5111 - accuracy: 0.7583\n",
      "Epoch 45/200\n",
      "24/24 [==============================] - 0s 1ms/step - loss: 0.4423 - accuracy: 0.7917\n",
      "Epoch 46/200\n",
      "24/24 [==============================] - 0s 2ms/step - loss: 0.4786 - accuracy: 0.8083\n",
      "Epoch 47/200\n",
      "24/24 [==============================] - 0s 2ms/step - loss: 0.4597 - accuracy: 0.8333\n",
      "Epoch 48/200\n",
      "24/24 [==============================] - 0s 1ms/step - loss: 0.4926 - accuracy: 0.7500\n",
      "Epoch 49/200\n",
      "24/24 [==============================] - 0s 2ms/step - loss: 0.4037 - accuracy: 0.8500\n",
      "Epoch 50/200\n",
      "24/24 [==============================] - 0s 2ms/step - loss: 0.4443 - accuracy: 0.7917\n",
      "Epoch 51/200\n",
      "24/24 [==============================] - 0s 1ms/step - loss: 0.4463 - accuracy: 0.8083\n",
      "Epoch 52/200\n",
      "24/24 [==============================] - 0s 2ms/step - loss: 0.4738 - accuracy: 0.7917\n",
      "Epoch 53/200\n",
      "24/24 [==============================] - 0s 1ms/step - loss: 0.4543 - accuracy: 0.7833\n",
      "Epoch 54/200\n",
      "24/24 [==============================] - 0s 1ms/step - loss: 0.4256 - accuracy: 0.8333\n",
      "Epoch 55/200\n",
      "24/24 [==============================] - 0s 2ms/step - loss: 0.4234 - accuracy: 0.8583\n",
      "Epoch 56/200\n",
      "24/24 [==============================] - 0s 2ms/step - loss: 0.3754 - accuracy: 0.8750\n",
      "Epoch 57/200\n",
      "24/24 [==============================] - 0s 2ms/step - loss: 0.4577 - accuracy: 0.8333\n",
      "Epoch 58/200\n",
      "24/24 [==============================] - 0s 1ms/step - loss: 0.4294 - accuracy: 0.8417\n",
      "Epoch 59/200\n",
      "24/24 [==============================] - 0s 1ms/step - loss: 0.4277 - accuracy: 0.8250\n",
      "Epoch 60/200\n",
      "24/24 [==============================] - 0s 2ms/step - loss: 0.4347 - accuracy: 0.8333\n",
      "Epoch 61/200\n",
      "24/24 [==============================] - 0s 2ms/step - loss: 0.3876 - accuracy: 0.8417\n",
      "Epoch 62/200\n",
      "24/24 [==============================] - 0s 2ms/step - loss: 0.4788 - accuracy: 0.7500\n",
      "Epoch 63/200\n",
      "24/24 [==============================] - 0s 2ms/step - loss: 0.3838 - accuracy: 0.8417\n",
      "Epoch 64/200\n",
      "24/24 [==============================] - 0s 2ms/step - loss: 0.3660 - accuracy: 0.8417\n",
      "Epoch 65/200\n",
      "24/24 [==============================] - 0s 2ms/step - loss: 0.4682 - accuracy: 0.7500\n",
      "Epoch 66/200\n",
      "24/24 [==============================] - 0s 1ms/step - loss: 0.4186 - accuracy: 0.8167\n",
      "Epoch 67/200\n",
      "24/24 [==============================] - 0s 2ms/step - loss: 0.4197 - accuracy: 0.8417\n",
      "Epoch 68/200\n",
      "24/24 [==============================] - 0s 2ms/step - loss: 0.4460 - accuracy: 0.8167\n",
      "Epoch 69/200\n",
      "24/24 [==============================] - 0s 1ms/step - loss: 0.4208 - accuracy: 0.8500\n",
      "Epoch 70/200\n",
      "24/24 [==============================] - 0s 1ms/step - loss: 0.4354 - accuracy: 0.8083\n",
      "Epoch 71/200\n",
      "24/24 [==============================] - 0s 2ms/step - loss: 0.4237 - accuracy: 0.8333\n",
      "Epoch 72/200\n",
      "24/24 [==============================] - 0s 1ms/step - loss: 0.3940 - accuracy: 0.8333\n",
      "Epoch 73/200\n",
      "24/24 [==============================] - 0s 2ms/step - loss: 0.4013 - accuracy: 0.8583\n",
      "Epoch 74/200\n",
      "24/24 [==============================] - 0s 2ms/step - loss: 0.3913 - accuracy: 0.8333\n",
      "Epoch 75/200\n",
      "24/24 [==============================] - 0s 1ms/step - loss: 0.3818 - accuracy: 0.8417\n",
      "Epoch 76/200\n",
      "24/24 [==============================] - 0s 2ms/step - loss: 0.3635 - accuracy: 0.8417\n",
      "Epoch 77/200\n",
      "24/24 [==============================] - 0s 2ms/step - loss: 0.4366 - accuracy: 0.7917\n",
      "Epoch 78/200\n",
      "24/24 [==============================] - 0s 2ms/step - loss: 0.4878 - accuracy: 0.7083\n",
      "Epoch 79/200\n",
      "24/24 [==============================] - 0s 2ms/step - loss: 0.3876 - accuracy: 0.8333\n",
      "Epoch 80/200\n",
      "24/24 [==============================] - 0s 2ms/step - loss: 0.3779 - accuracy: 0.7917\n",
      "Epoch 81/200\n",
      "24/24 [==============================] - 0s 2ms/step - loss: 0.3997 - accuracy: 0.8167\n",
      "Epoch 82/200\n",
      "24/24 [==============================] - 0s 1ms/step - loss: 0.3914 - accuracy: 0.8417\n",
      "Epoch 83/200\n",
      "24/24 [==============================] - 0s 2ms/step - loss: 0.3484 - accuracy: 0.8500\n",
      "Epoch 84/200\n",
      "24/24 [==============================] - 0s 2ms/step - loss: 0.3763 - accuracy: 0.8417\n",
      "Epoch 85/200\n",
      "24/24 [==============================] - 0s 2ms/step - loss: 0.3423 - accuracy: 0.8750\n",
      "Epoch 86/200\n",
      "24/24 [==============================] - 0s 2ms/step - loss: 0.3512 - accuracy: 0.8583\n",
      "Epoch 87/200\n",
      "24/24 [==============================] - 0s 2ms/step - loss: 0.3599 - accuracy: 0.8500\n",
      "Epoch 88/200\n",
      "24/24 [==============================] - 0s 2ms/step - loss: 0.3724 - accuracy: 0.8333\n",
      "Epoch 89/200\n",
      "24/24 [==============================] - 0s 2ms/step - loss: 0.3836 - accuracy: 0.8417\n",
      "Epoch 90/200\n",
      "24/24 [==============================] - 0s 2ms/step - loss: 0.4145 - accuracy: 0.8000\n",
      "Epoch 91/200\n",
      "24/24 [==============================] - 0s 1ms/step - loss: 0.3879 - accuracy: 0.8417\n",
      "Epoch 92/200\n",
      "24/24 [==============================] - 0s 2ms/step - loss: 0.3194 - accuracy: 0.9000\n",
      "Epoch 93/200\n",
      "24/24 [==============================] - 0s 1ms/step - loss: 0.3724 - accuracy: 0.8500\n",
      "Epoch 94/200\n",
      "24/24 [==============================] - 0s 2ms/step - loss: 0.4081 - accuracy: 0.8417\n",
      "Epoch 95/200\n",
      "24/24 [==============================] - 0s 1ms/step - loss: 0.3877 - accuracy: 0.8250\n",
      "Epoch 96/200\n",
      "24/24 [==============================] - 0s 1ms/step - loss: 0.3449 - accuracy: 0.9167\n",
      "Epoch 97/200\n",
      "24/24 [==============================] - 0s 1ms/step - loss: 0.3497 - accuracy: 0.8167\n",
      "Epoch 98/200\n",
      "24/24 [==============================] - 0s 2ms/step - loss: 0.3753 - accuracy: 0.8083\n",
      "Epoch 99/200\n",
      "24/24 [==============================] - 0s 2ms/step - loss: 0.3535 - accuracy: 0.8500\n",
      "Epoch 100/200\n",
      "24/24 [==============================] - 0s 1ms/step - loss: 0.2686 - accuracy: 0.9333\n",
      "Epoch 101/200\n",
      "24/24 [==============================] - 0s 2ms/step - loss: 0.3888 - accuracy: 0.8500\n",
      "Epoch 102/200\n",
      "24/24 [==============================] - 0s 2ms/step - loss: 0.4207 - accuracy: 0.7917\n",
      "Epoch 103/200\n",
      "24/24 [==============================] - 0s 2ms/step - loss: 0.4027 - accuracy: 0.8000\n",
      "Epoch 104/200\n",
      "24/24 [==============================] - 0s 2ms/step - loss: 0.3632 - accuracy: 0.8250\n",
      "Epoch 105/200\n",
      "24/24 [==============================] - 0s 2ms/step - loss: 0.3568 - accuracy: 0.8917\n",
      "Epoch 106/200\n",
      "24/24 [==============================] - 0s 2ms/step - loss: 0.3694 - accuracy: 0.8500\n",
      "Epoch 107/200\n",
      "24/24 [==============================] - 0s 2ms/step - loss: 0.4512 - accuracy: 0.8167\n",
      "Epoch 108/200\n",
      "24/24 [==============================] - 0s 2ms/step - loss: 0.3393 - accuracy: 0.8750\n",
      "Epoch 109/200\n",
      "24/24 [==============================] - 0s 2ms/step - loss: 0.3436 - accuracy: 0.8667\n",
      "Epoch 110/200\n",
      "24/24 [==============================] - 0s 1ms/step - loss: 0.3683 - accuracy: 0.8667\n",
      "Epoch 111/200\n",
      "24/24 [==============================] - 0s 1ms/step - loss: 0.3753 - accuracy: 0.8333\n",
      "Epoch 112/200\n",
      "24/24 [==============================] - 0s 2ms/step - loss: 0.3686 - accuracy: 0.8417\n",
      "Epoch 113/200\n",
      "24/24 [==============================] - 0s 2ms/step - loss: 0.3413 - accuracy: 0.8917\n",
      "Epoch 114/200\n",
      "24/24 [==============================] - 0s 2ms/step - loss: 0.3240 - accuracy: 0.8583\n",
      "Epoch 115/200\n",
      "24/24 [==============================] - 0s 2ms/step - loss: 0.3712 - accuracy: 0.8750\n",
      "Epoch 116/200\n",
      "24/24 [==============================] - 0s 1ms/step - loss: 0.3196 - accuracy: 0.8750\n",
      "Epoch 117/200\n",
      "24/24 [==============================] - 0s 1ms/step - loss: 0.3656 - accuracy: 0.8500\n",
      "Epoch 118/200\n",
      "24/24 [==============================] - 0s 2ms/step - loss: 0.3651 - accuracy: 0.8417\n",
      "Epoch 119/200\n",
      "24/24 [==============================] - 0s 2ms/step - loss: 0.3908 - accuracy: 0.8583\n",
      "Epoch 120/200\n",
      "24/24 [==============================] - 0s 2ms/step - loss: 0.3504 - accuracy: 0.8750\n",
      "Epoch 121/200\n",
      "24/24 [==============================] - 0s 2ms/step - loss: 0.3733 - accuracy: 0.8667\n",
      "Epoch 122/200\n",
      "24/24 [==============================] - 0s 2ms/step - loss: 0.3346 - accuracy: 0.8500\n",
      "Epoch 123/200\n",
      "24/24 [==============================] - 0s 2ms/step - loss: 0.3172 - accuracy: 0.8917\n",
      "Epoch 124/200\n",
      "24/24 [==============================] - 0s 2ms/step - loss: 0.3876 - accuracy: 0.8500\n",
      "Epoch 125/200\n",
      "24/24 [==============================] - 0s 2ms/step - loss: 0.3006 - accuracy: 0.9083\n",
      "Epoch 126/200\n",
      "24/24 [==============================] - 0s 2ms/step - loss: 0.4216 - accuracy: 0.8083\n",
      "Epoch 127/200\n",
      "24/24 [==============================] - 0s 2ms/step - loss: 0.3686 - accuracy: 0.8083\n",
      "Epoch 128/200\n",
      "24/24 [==============================] - 0s 2ms/step - loss: 0.3282 - accuracy: 0.9000\n",
      "Epoch 129/200\n",
      "24/24 [==============================] - 0s 2ms/step - loss: 0.4289 - accuracy: 0.8083\n",
      "Epoch 130/200\n",
      "24/24 [==============================] - 0s 2ms/step - loss: 0.3556 - accuracy: 0.8750\n",
      "Epoch 131/200\n",
      "24/24 [==============================] - 0s 1ms/step - loss: 0.3678 - accuracy: 0.8417\n",
      "Epoch 132/200\n",
      "24/24 [==============================] - 0s 2ms/step - loss: 0.3893 - accuracy: 0.8333\n",
      "Epoch 133/200\n",
      "24/24 [==============================] - 0s 1ms/step - loss: 0.3167 - accuracy: 0.8917\n",
      "Epoch 134/200\n",
      "24/24 [==============================] - 0s 1ms/step - loss: 0.3139 - accuracy: 0.8833\n",
      "Epoch 135/200\n",
      "24/24 [==============================] - 0s 2ms/step - loss: 0.3602 - accuracy: 0.8417\n",
      "Epoch 136/200\n",
      "24/24 [==============================] - 0s 2ms/step - loss: 0.3027 - accuracy: 0.8667\n",
      "Epoch 137/200\n",
      "24/24 [==============================] - 0s 2ms/step - loss: 0.3715 - accuracy: 0.8333\n",
      "Epoch 138/200\n",
      "24/24 [==============================] - 0s 1ms/step - loss: 0.3464 - accuracy: 0.8583\n",
      "Epoch 139/200\n",
      "24/24 [==============================] - 0s 2ms/step - loss: 0.4077 - accuracy: 0.8333\n",
      "Epoch 140/200\n",
      "24/24 [==============================] - 0s 2ms/step - loss: 0.3343 - accuracy: 0.8917\n",
      "Epoch 141/200\n",
      "24/24 [==============================] - 0s 2ms/step - loss: 0.3378 - accuracy: 0.8667\n",
      "Epoch 142/200\n",
      "24/24 [==============================] - 0s 2ms/step - loss: 0.2758 - accuracy: 0.9167\n",
      "Epoch 143/200\n",
      "24/24 [==============================] - 0s 2ms/step - loss: 0.4053 - accuracy: 0.8333\n",
      "Epoch 144/200\n",
      "24/24 [==============================] - 0s 2ms/step - loss: 0.3116 - accuracy: 0.8917\n",
      "Epoch 145/200\n",
      "24/24 [==============================] - 0s 2ms/step - loss: 0.3545 - accuracy: 0.8500\n",
      "Epoch 146/200\n",
      "24/24 [==============================] - 0s 2ms/step - loss: 0.2777 - accuracy: 0.9333\n",
      "Epoch 147/200\n",
      "24/24 [==============================] - 0s 2ms/step - loss: 0.3525 - accuracy: 0.8000\n",
      "Epoch 148/200\n",
      "24/24 [==============================] - 0s 2ms/step - loss: 0.3384 - accuracy: 0.8583\n",
      "Epoch 149/200\n",
      "24/24 [==============================] - 0s 1ms/step - loss: 0.3574 - accuracy: 0.8583\n",
      "Epoch 150/200\n",
      "24/24 [==============================] - 0s 2ms/step - loss: 0.4163 - accuracy: 0.8500\n",
      "Epoch 151/200\n",
      "24/24 [==============================] - 0s 2ms/step - loss: 0.3735 - accuracy: 0.8500\n",
      "Epoch 152/200\n",
      "24/24 [==============================] - 0s 1ms/step - loss: 0.3667 - accuracy: 0.8583\n",
      "Epoch 153/200\n",
      "24/24 [==============================] - 0s 2ms/step - loss: 0.3229 - accuracy: 0.8917\n",
      "Epoch 154/200\n",
      "24/24 [==============================] - 0s 2ms/step - loss: 0.3219 - accuracy: 0.8583\n",
      "Epoch 155/200\n",
      "24/24 [==============================] - 0s 1ms/step - loss: 0.3156 - accuracy: 0.8083\n",
      "Epoch 156/200\n",
      "24/24 [==============================] - 0s 2ms/step - loss: 0.3218 - accuracy: 0.8750\n",
      "Epoch 157/200\n",
      "24/24 [==============================] - 0s 1ms/step - loss: 0.2854 - accuracy: 0.9083\n",
      "Epoch 158/200\n",
      "24/24 [==============================] - 0s 1ms/step - loss: 0.3190 - accuracy: 0.8583\n",
      "Epoch 159/200\n",
      "24/24 [==============================] - 0s 1ms/step - loss: 0.3696 - accuracy: 0.8333\n",
      "Epoch 160/200\n",
      "24/24 [==============================] - 0s 1ms/step - loss: 0.3426 - accuracy: 0.8167\n",
      "Epoch 161/200\n",
      "24/24 [==============================] - 0s 2ms/step - loss: 0.3111 - accuracy: 0.8583\n",
      "Epoch 162/200\n",
      "24/24 [==============================] - 0s 1ms/step - loss: 0.3117 - accuracy: 0.8750\n",
      "Epoch 163/200\n",
      "24/24 [==============================] - 0s 1ms/step - loss: 0.2919 - accuracy: 0.8667\n",
      "Epoch 164/200\n",
      "24/24 [==============================] - 0s 2ms/step - loss: 0.3163 - accuracy: 0.8750\n",
      "Epoch 165/200\n",
      "24/24 [==============================] - 0s 2ms/step - loss: 0.3364 - accuracy: 0.8667\n",
      "Epoch 166/200\n",
      "24/24 [==============================] - 0s 1ms/step - loss: 0.3813 - accuracy: 0.8250\n",
      "Epoch 167/200\n",
      "24/24 [==============================] - 0s 2ms/step - loss: 0.3014 - accuracy: 0.8917\n",
      "Epoch 168/200\n",
      "24/24 [==============================] - 0s 2ms/step - loss: 0.3112 - accuracy: 0.8500\n",
      "Epoch 169/200\n",
      "24/24 [==============================] - 0s 2ms/step - loss: 0.3987 - accuracy: 0.7750\n",
      "Epoch 170/200\n",
      "24/24 [==============================] - 0s 2ms/step - loss: 0.3255 - accuracy: 0.8833\n",
      "Epoch 171/200\n",
      "24/24 [==============================] - 0s 2ms/step - loss: 0.3460 - accuracy: 0.8500\n",
      "Epoch 172/200\n",
      "24/24 [==============================] - 0s 2ms/step - loss: 0.3306 - accuracy: 0.8917\n",
      "Epoch 173/200\n",
      "24/24 [==============================] - 0s 2ms/step - loss: 0.2975 - accuracy: 0.8833\n",
      "Epoch 174/200\n",
      "24/24 [==============================] - 0s 2ms/step - loss: 0.3312 - accuracy: 0.8583\n",
      "Epoch 175/200\n",
      "24/24 [==============================] - 0s 2ms/step - loss: 0.3159 - accuracy: 0.8500\n",
      "Epoch 176/200\n",
      "24/24 [==============================] - 0s 2ms/step - loss: 0.3112 - accuracy: 0.8750\n",
      "Epoch 177/200\n",
      "24/24 [==============================] - 0s 2ms/step - loss: 0.2939 - accuracy: 0.9000\n",
      "Epoch 178/200\n",
      "24/24 [==============================] - 0s 1ms/step - loss: 0.2809 - accuracy: 0.9000\n",
      "Epoch 179/200\n",
      "24/24 [==============================] - 0s 2ms/step - loss: 0.3144 - accuracy: 0.8833\n",
      "Epoch 180/200\n",
      "24/24 [==============================] - 0s 1ms/step - loss: 0.3958 - accuracy: 0.8417\n",
      "Epoch 181/200\n",
      "24/24 [==============================] - 0s 1ms/step - loss: 0.3081 - accuracy: 0.8583\n",
      "Epoch 182/200\n",
      "24/24 [==============================] - 0s 1ms/step - loss: 0.3238 - accuracy: 0.8417\n",
      "Epoch 183/200\n",
      "24/24 [==============================] - 0s 2ms/step - loss: 0.3274 - accuracy: 0.8417\n",
      "Epoch 184/200\n",
      "24/24 [==============================] - 0s 2ms/step - loss: 0.3557 - accuracy: 0.8417\n",
      "Epoch 185/200\n",
      "24/24 [==============================] - 0s 2ms/step - loss: 0.3599 - accuracy: 0.8667\n",
      "Epoch 186/200\n",
      "24/24 [==============================] - 0s 1ms/step - loss: 0.2748 - accuracy: 0.8750\n",
      "Epoch 187/200\n",
      "24/24 [==============================] - 0s 2ms/step - loss: 0.2758 - accuracy: 0.8833\n",
      "Epoch 188/200\n",
      "24/24 [==============================] - 0s 2ms/step - loss: 0.3057 - accuracy: 0.8333\n",
      "Epoch 189/200\n",
      "24/24 [==============================] - 0s 2ms/step - loss: 0.3029 - accuracy: 0.8667\n",
      "Epoch 190/200\n",
      "24/24 [==============================] - 0s 2ms/step - loss: 0.3291 - accuracy: 0.8500\n",
      "Epoch 191/200\n",
      "24/24 [==============================] - 0s 2ms/step - loss: 0.3206 - accuracy: 0.8583\n",
      "Epoch 192/200\n",
      "24/24 [==============================] - 0s 2ms/step - loss: 0.3201 - accuracy: 0.8833\n",
      "Epoch 193/200\n",
      "24/24 [==============================] - 0s 2ms/step - loss: 0.3595 - accuracy: 0.8333\n",
      "Epoch 194/200\n",
      "24/24 [==============================] - 0s 2ms/step - loss: 0.2605 - accuracy: 0.9000\n",
      "Epoch 195/200\n",
      "24/24 [==============================] - 0s 2ms/step - loss: 0.3364 - accuracy: 0.8000\n",
      "Epoch 196/200\n",
      "24/24 [==============================] - 0s 2ms/step - loss: 0.3265 - accuracy: 0.8583\n",
      "Epoch 197/200\n",
      "24/24 [==============================] - 0s 2ms/step - loss: 0.3178 - accuracy: 0.8333\n",
      "Epoch 198/200\n",
      "24/24 [==============================] - 0s 2ms/step - loss: 0.2800 - accuracy: 0.9000\n",
      "Epoch 199/200\n",
      "24/24 [==============================] - 0s 2ms/step - loss: 0.3042 - accuracy: 0.8917\n",
      "Epoch 200/200\n",
      "24/24 [==============================] - 0s 2ms/step - loss: 0.2975 - accuracy: 0.8667\n"
     ]
    },
    {
     "data": {
      "text/plain": [
       "<keras.callbacks.History at 0x7fd0d760c890>"
      ]
     },
     "execution_count": 19,
     "metadata": {},
     "output_type": "execute_result"
    }
   ],
   "source": [
    "# Training the model with batchsize of 5 and 200 epochs.\n",
    "model.fit(train_x, train_y,epochs=200,batch_size=5)"
   ]
  },
  {
   "cell_type": "code",
   "execution_count": null,
   "metadata": {
    "colab": {
     "base_uri": "https://localhost:8080/"
    },
    "id": "2O2kd25iXpQA",
    "outputId": "ea771270-fa61-42c3-9ddb-2842af7103d3"
   },
   "outputs": [
    {
     "name": "stdout",
     "output_type": "stream",
     "text": [
      "1/1 [==============================] - 0s 153ms/step - loss: 0.1679 - accuracy: 0.9667\n",
      "Final test set loss: 0.167875\n",
      "Final test set accuracy: 0.966667\n"
     ]
    }
   ],
   "source": [
    "# Evaluating the model on unseen data (test set).\n",
    "results = model.evaluate(test_x, test_y)\n",
    "\n",
    "print('Final test set loss: {:4f}'.format(results[0]))\n",
    "print('Final test set accuracy: {:4f}'.format(results[1]))"
   ]
  }
 ],
 "metadata": {
  "colab": {
   "collapsed_sections": [],
   "name": "Ex1-Yasin Azhdari.ipynb",
   "provenance": []
  },
  "kernelspec": {
   "display_name": "Python 3 (ipykernel)",
   "language": "python",
   "name": "python3"
  },
  "language_info": {
   "codemirror_mode": {
    "name": "ipython",
    "version": 3
   },
   "file_extension": ".py",
   "mimetype": "text/x-python",
   "name": "python",
   "nbconvert_exporter": "python",
   "pygments_lexer": "ipython3",
   "version": "3.9.7"
  }
 },
 "nbformat": 4,
 "nbformat_minor": 1
}
