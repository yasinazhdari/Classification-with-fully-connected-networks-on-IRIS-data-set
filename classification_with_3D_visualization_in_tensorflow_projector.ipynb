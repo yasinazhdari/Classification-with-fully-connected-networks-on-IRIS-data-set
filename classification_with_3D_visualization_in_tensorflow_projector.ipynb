{
  "nbformat": 4,
  "nbformat_minor": 0,
  "metadata": {
    "colab": {
      "name": "classification with 3D visualization in tensorflow projector.ipynb",
      "provenance": [],
      "collapsed_sections": [],
      "authorship_tag": "ABX9TyPY0lGtTBG04Q3FIILivMwk",
      "include_colab_link": true
    },
    "kernelspec": {
      "name": "python3",
      "display_name": "Python 3"
    },
    "language_info": {
      "name": "python"
    },
    "accelerator": "GPU",
    "gpuClass": "standard",
    "widgets": {
      "application/vnd.jupyter.widget-state+json": {
        "be1202ab503e4f5e87edaef76363227e": {
          "model_module": "@jupyter-widgets/controls",
          "model_name": "HBoxModel",
          "model_module_version": "1.5.0",
          "state": {
            "_dom_classes": [],
            "_model_module": "@jupyter-widgets/controls",
            "_model_module_version": "1.5.0",
            "_model_name": "HBoxModel",
            "_view_count": null,
            "_view_module": "@jupyter-widgets/controls",
            "_view_module_version": "1.5.0",
            "_view_name": "HBoxView",
            "box_style": "",
            "children": [
              "IPY_MODEL_c6c646f6058747d585ba14b0f7933dcc",
              "IPY_MODEL_14202e6fcf3e49de8c2faee4fb0e8c47",
              "IPY_MODEL_33bd5f808c9c4f3c96cf8e0c7731d871"
            ],
            "layout": "IPY_MODEL_cabf1e25cd624572a88c0f81d7a646b0"
          }
        },
        "c6c646f6058747d585ba14b0f7933dcc": {
          "model_module": "@jupyter-widgets/controls",
          "model_name": "HTMLModel",
          "model_module_version": "1.5.0",
          "state": {
            "_dom_classes": [],
            "_model_module": "@jupyter-widgets/controls",
            "_model_module_version": "1.5.0",
            "_model_name": "HTMLModel",
            "_view_count": null,
            "_view_module": "@jupyter-widgets/controls",
            "_view_module_version": "1.5.0",
            "_view_name": "HTMLView",
            "description": "",
            "description_tooltip": null,
            "layout": "IPY_MODEL_6410f402d9374dcb9796f7e653e8bd77",
            "placeholder": "​",
            "style": "IPY_MODEL_db7960fa796c41bcb054a4a7d7a1fbd4",
            "value": "Dl Completed...: 100%"
          }
        },
        "14202e6fcf3e49de8c2faee4fb0e8c47": {
          "model_module": "@jupyter-widgets/controls",
          "model_name": "FloatProgressModel",
          "model_module_version": "1.5.0",
          "state": {
            "_dom_classes": [],
            "_model_module": "@jupyter-widgets/controls",
            "_model_module_version": "1.5.0",
            "_model_name": "FloatProgressModel",
            "_view_count": null,
            "_view_module": "@jupyter-widgets/controls",
            "_view_module_version": "1.5.0",
            "_view_name": "ProgressView",
            "bar_style": "success",
            "description": "",
            "description_tooltip": null,
            "layout": "IPY_MODEL_754cf27f7916467ead61f70edee8f9fa",
            "max": 4,
            "min": 0,
            "orientation": "horizontal",
            "style": "IPY_MODEL_7e04245fd2e446acb7919acd344d7b21",
            "value": 4
          }
        },
        "33bd5f808c9c4f3c96cf8e0c7731d871": {
          "model_module": "@jupyter-widgets/controls",
          "model_name": "HTMLModel",
          "model_module_version": "1.5.0",
          "state": {
            "_dom_classes": [],
            "_model_module": "@jupyter-widgets/controls",
            "_model_module_version": "1.5.0",
            "_model_name": "HTMLModel",
            "_view_count": null,
            "_view_module": "@jupyter-widgets/controls",
            "_view_module_version": "1.5.0",
            "_view_name": "HTMLView",
            "description": "",
            "description_tooltip": null,
            "layout": "IPY_MODEL_2e7fd98bd9ac4927bce4d0fa6f818d87",
            "placeholder": "​",
            "style": "IPY_MODEL_e76ab423c0fe485287e4fec51d70e520",
            "value": " 4/4 [00:00&lt;00:00, 12.21 file/s]"
          }
        },
        "cabf1e25cd624572a88c0f81d7a646b0": {
          "model_module": "@jupyter-widgets/base",
          "model_name": "LayoutModel",
          "model_module_version": "1.2.0",
          "state": {
            "_model_module": "@jupyter-widgets/base",
            "_model_module_version": "1.2.0",
            "_model_name": "LayoutModel",
            "_view_count": null,
            "_view_module": "@jupyter-widgets/base",
            "_view_module_version": "1.2.0",
            "_view_name": "LayoutView",
            "align_content": null,
            "align_items": null,
            "align_self": null,
            "border": null,
            "bottom": null,
            "display": null,
            "flex": null,
            "flex_flow": null,
            "grid_area": null,
            "grid_auto_columns": null,
            "grid_auto_flow": null,
            "grid_auto_rows": null,
            "grid_column": null,
            "grid_gap": null,
            "grid_row": null,
            "grid_template_areas": null,
            "grid_template_columns": null,
            "grid_template_rows": null,
            "height": null,
            "justify_content": null,
            "justify_items": null,
            "left": null,
            "margin": null,
            "max_height": null,
            "max_width": null,
            "min_height": null,
            "min_width": null,
            "object_fit": null,
            "object_position": null,
            "order": null,
            "overflow": null,
            "overflow_x": null,
            "overflow_y": null,
            "padding": null,
            "right": null,
            "top": null,
            "visibility": null,
            "width": null
          }
        },
        "6410f402d9374dcb9796f7e653e8bd77": {
          "model_module": "@jupyter-widgets/base",
          "model_name": "LayoutModel",
          "model_module_version": "1.2.0",
          "state": {
            "_model_module": "@jupyter-widgets/base",
            "_model_module_version": "1.2.0",
            "_model_name": "LayoutModel",
            "_view_count": null,
            "_view_module": "@jupyter-widgets/base",
            "_view_module_version": "1.2.0",
            "_view_name": "LayoutView",
            "align_content": null,
            "align_items": null,
            "align_self": null,
            "border": null,
            "bottom": null,
            "display": null,
            "flex": null,
            "flex_flow": null,
            "grid_area": null,
            "grid_auto_columns": null,
            "grid_auto_flow": null,
            "grid_auto_rows": null,
            "grid_column": null,
            "grid_gap": null,
            "grid_row": null,
            "grid_template_areas": null,
            "grid_template_columns": null,
            "grid_template_rows": null,
            "height": null,
            "justify_content": null,
            "justify_items": null,
            "left": null,
            "margin": null,
            "max_height": null,
            "max_width": null,
            "min_height": null,
            "min_width": null,
            "object_fit": null,
            "object_position": null,
            "order": null,
            "overflow": null,
            "overflow_x": null,
            "overflow_y": null,
            "padding": null,
            "right": null,
            "top": null,
            "visibility": null,
            "width": null
          }
        },
        "db7960fa796c41bcb054a4a7d7a1fbd4": {
          "model_module": "@jupyter-widgets/controls",
          "model_name": "DescriptionStyleModel",
          "model_module_version": "1.5.0",
          "state": {
            "_model_module": "@jupyter-widgets/controls",
            "_model_module_version": "1.5.0",
            "_model_name": "DescriptionStyleModel",
            "_view_count": null,
            "_view_module": "@jupyter-widgets/base",
            "_view_module_version": "1.2.0",
            "_view_name": "StyleView",
            "description_width": ""
          }
        },
        "754cf27f7916467ead61f70edee8f9fa": {
          "model_module": "@jupyter-widgets/base",
          "model_name": "LayoutModel",
          "model_module_version": "1.2.0",
          "state": {
            "_model_module": "@jupyter-widgets/base",
            "_model_module_version": "1.2.0",
            "_model_name": "LayoutModel",
            "_view_count": null,
            "_view_module": "@jupyter-widgets/base",
            "_view_module_version": "1.2.0",
            "_view_name": "LayoutView",
            "align_content": null,
            "align_items": null,
            "align_self": null,
            "border": null,
            "bottom": null,
            "display": null,
            "flex": null,
            "flex_flow": null,
            "grid_area": null,
            "grid_auto_columns": null,
            "grid_auto_flow": null,
            "grid_auto_rows": null,
            "grid_column": null,
            "grid_gap": null,
            "grid_row": null,
            "grid_template_areas": null,
            "grid_template_columns": null,
            "grid_template_rows": null,
            "height": null,
            "justify_content": null,
            "justify_items": null,
            "left": null,
            "margin": null,
            "max_height": null,
            "max_width": null,
            "min_height": null,
            "min_width": null,
            "object_fit": null,
            "object_position": null,
            "order": null,
            "overflow": null,
            "overflow_x": null,
            "overflow_y": null,
            "padding": null,
            "right": null,
            "top": null,
            "visibility": null,
            "width": null
          }
        },
        "7e04245fd2e446acb7919acd344d7b21": {
          "model_module": "@jupyter-widgets/controls",
          "model_name": "ProgressStyleModel",
          "model_module_version": "1.5.0",
          "state": {
            "_model_module": "@jupyter-widgets/controls",
            "_model_module_version": "1.5.0",
            "_model_name": "ProgressStyleModel",
            "_view_count": null,
            "_view_module": "@jupyter-widgets/base",
            "_view_module_version": "1.2.0",
            "_view_name": "StyleView",
            "bar_color": null,
            "description_width": ""
          }
        },
        "2e7fd98bd9ac4927bce4d0fa6f818d87": {
          "model_module": "@jupyter-widgets/base",
          "model_name": "LayoutModel",
          "model_module_version": "1.2.0",
          "state": {
            "_model_module": "@jupyter-widgets/base",
            "_model_module_version": "1.2.0",
            "_model_name": "LayoutModel",
            "_view_count": null,
            "_view_module": "@jupyter-widgets/base",
            "_view_module_version": "1.2.0",
            "_view_name": "LayoutView",
            "align_content": null,
            "align_items": null,
            "align_self": null,
            "border": null,
            "bottom": null,
            "display": null,
            "flex": null,
            "flex_flow": null,
            "grid_area": null,
            "grid_auto_columns": null,
            "grid_auto_flow": null,
            "grid_auto_rows": null,
            "grid_column": null,
            "grid_gap": null,
            "grid_row": null,
            "grid_template_areas": null,
            "grid_template_columns": null,
            "grid_template_rows": null,
            "height": null,
            "justify_content": null,
            "justify_items": null,
            "left": null,
            "margin": null,
            "max_height": null,
            "max_width": null,
            "min_height": null,
            "min_width": null,
            "object_fit": null,
            "object_position": null,
            "order": null,
            "overflow": null,
            "overflow_x": null,
            "overflow_y": null,
            "padding": null,
            "right": null,
            "top": null,
            "visibility": null,
            "width": null
          }
        },
        "e76ab423c0fe485287e4fec51d70e520": {
          "model_module": "@jupyter-widgets/controls",
          "model_name": "DescriptionStyleModel",
          "model_module_version": "1.5.0",
          "state": {
            "_model_module": "@jupyter-widgets/controls",
            "_model_module_version": "1.5.0",
            "_model_name": "DescriptionStyleModel",
            "_view_count": null,
            "_view_module": "@jupyter-widgets/base",
            "_view_module_version": "1.2.0",
            "_view_name": "StyleView",
            "description_width": ""
          }
        }
      }
    }
  },
  "cells": [
    {
      "cell_type": "markdown",
      "metadata": {
        "id": "view-in-github",
        "colab_type": "text"
      },
      "source": [
        "<a href=\"https://colab.research.google.com/github/yasinazhdari/Intro-to-Tensorflow-Simple-Classifications-with-fully-connected-and-Cov-Neural-Nets/blob/main/classification_with_3D_visualization_in_tensorflow_projector.ipynb\" target=\"_parent\"><img src=\"https://colab.research.google.com/assets/colab-badge.svg\" alt=\"Open In Colab\"/></a>"
      ]
    },
    {
      "cell_type": "code",
      "source": [
        "import numpy as np\n",
        "\n",
        "import tensorflow            as tf"
      ],
      "metadata": {
        "id": "k_FIL2qbIejs"
      },
      "execution_count": null,
      "outputs": []
    },
    {
      "cell_type": "code",
      "execution_count": null,
      "metadata": {
        "colab": {
          "base_uri": "https://localhost:8080/",
          "height": 188,
          "referenced_widgets": [
            "be1202ab503e4f5e87edaef76363227e",
            "c6c646f6058747d585ba14b0f7933dcc",
            "14202e6fcf3e49de8c2faee4fb0e8c47",
            "33bd5f808c9c4f3c96cf8e0c7731d871",
            "cabf1e25cd624572a88c0f81d7a646b0",
            "6410f402d9374dcb9796f7e653e8bd77",
            "db7960fa796c41bcb054a4a7d7a1fbd4",
            "754cf27f7916467ead61f70edee8f9fa",
            "7e04245fd2e446acb7919acd344d7b21",
            "2e7fd98bd9ac4927bce4d0fa6f818d87",
            "e76ab423c0fe485287e4fec51d70e520"
          ]
        },
        "id": "hdp3ZSQRIX2w",
        "outputId": "996052cb-33f6-4810-8b54-1e5f4f1f0493"
      },
      "outputs": [
        {
          "output_type": "stream",
          "name": "stdout",
          "text": [
            "\u001b[1mDownloading and preparing dataset mnist/3.0.1 (download: 11.06 MiB, generated: 21.00 MiB, total: 32.06 MiB) to /root/tensorflow_datasets/mnist/3.0.1...\u001b[0m\n"
          ]
        },
        {
          "output_type": "stream",
          "name": "stderr",
          "text": [
            "WARNING:absl:Dataset mnist is hosted on GCS. It will automatically be downloaded to your\n",
            "local data directory. If you'd instead prefer to read directly from our public\n",
            "GCS bucket (recommended if you're running on GCP), you can instead pass\n",
            "`try_gcs=True` to `tfds.load` or set `data_dir=gs://tfds-data/datasets`.\n",
            "\n"
          ]
        },
        {
          "output_type": "display_data",
          "data": {
            "text/plain": [
              "Dl Completed...:   0%|          | 0/4 [00:00<?, ? file/s]"
            ],
            "application/vnd.jupyter.widget-view+json": {
              "version_major": 2,
              "version_minor": 0,
              "model_id": "be1202ab503e4f5e87edaef76363227e"
            }
          },
          "metadata": {}
        },
        {
          "output_type": "stream",
          "name": "stdout",
          "text": [
            "\n",
            "\u001b[1mDataset mnist downloaded and prepared to /root/tensorflow_datasets/mnist/3.0.1. Subsequent calls will reuse this data.\u001b[0m\n"
          ]
        }
      ],
      "source": [
        "import tensorflow_datasets as tfds\n",
        "\n",
        "def _normalize_img(img, label):\n",
        "    img = tf.cast(img, tf.float32) / 255.\n",
        "    return (img, label)\n",
        "\n",
        "train_dataset, test_dataset = tfds.load(name=\"mnist\", split=['train', 'test'], as_supervised=True)\n",
        "\n",
        "# Build your input pipelines\n",
        "train_dataset = train_dataset.shuffle(1024).batch(32)\n",
        "train_dataset = train_dataset.map(_normalize_img)\n",
        "\n",
        "test_dataset = test_dataset.batch(32)\n",
        "test_dataset = test_dataset.map(_normalize_img  )"
      ]
    },
    {
      "cell_type": "code",
      "source": [
        "model = tf.keras.Sequential([\n",
        "    tf.keras.layers.Conv2D(filters=64, kernel_size=2, padding='same', activation='relu', input_shape=(28,28,1)),\n",
        "    tf.keras.layers.MaxPooling2D(pool_size=2),\n",
        "    tf.keras.layers.Dropout(0.3),\n",
        "    tf.keras.layers.Conv2D(filters=32, kernel_size=2, padding='same', activation='relu'),\n",
        "    tf.keras.layers.MaxPooling2D(pool_size=2),\n",
        "    tf.keras.layers.Dropout(0.3),\n",
        "    tf.keras.layers.Flatten(),\n",
        "    tf.keras.layers.Dense(256, activation=None), # No activation on final dense layer\n",
        "    tf.keras.layers.Lambda(lambda x: tf.math.l2_normalize(x, axis=1)) # L2 normalize embeddings\n",
        "\n",
        "])"
      ],
      "metadata": {
        "id": "Dfxkzrj4IZdp"
      },
      "execution_count": null,
      "outputs": []
    },
    {
      "cell_type": "code",
      "source": [
        "model.summary()"
      ],
      "metadata": {
        "colab": {
          "base_uri": "https://localhost:8080/"
        },
        "id": "rDeeqPEoI-qx",
        "outputId": "9bd8facc-edd9-4731-8d1f-b7ab31a0da96"
      },
      "execution_count": null,
      "outputs": [
        {
          "output_type": "stream",
          "name": "stdout",
          "text": [
            "Model: \"sequential\"\n",
            "_________________________________________________________________\n",
            " Layer (type)                Output Shape              Param #   \n",
            "=================================================================\n",
            " conv2d (Conv2D)             (None, 28, 28, 64)        320       \n",
            "                                                                 \n",
            " max_pooling2d (MaxPooling2D  (None, 14, 14, 64)       0         \n",
            " )                                                               \n",
            "                                                                 \n",
            " dropout (Dropout)           (None, 14, 14, 64)        0         \n",
            "                                                                 \n",
            " conv2d_1 (Conv2D)           (None, 14, 14, 32)        8224      \n",
            "                                                                 \n",
            " max_pooling2d_1 (MaxPooling  (None, 7, 7, 32)         0         \n",
            " 2D)                                                             \n",
            "                                                                 \n",
            " dropout_1 (Dropout)         (None, 7, 7, 32)          0         \n",
            "                                                                 \n",
            " flatten (Flatten)           (None, 1568)              0         \n",
            "                                                                 \n",
            " dense (Dense)               (None, 256)               401664    \n",
            "                                                                 \n",
            " lambda (Lambda)             (None, 256)               0         \n",
            "                                                                 \n",
            "=================================================================\n",
            "Total params: 410,208\n",
            "Trainable params: 410,208\n",
            "Non-trainable params: 0\n",
            "_________________________________________________________________\n"
          ]
        }
      ]
    },
    {
      "cell_type": "code",
      "source": [
        "!pip install -q --no-deps tensorflow-addons~=0.7"
      ],
      "metadata": {
        "colab": {
          "base_uri": "https://localhost:8080/"
        },
        "id": "Nrd3QB4kJV8g",
        "outputId": "5b4bad2c-a410-48b5-e4a4-c37c97aec06e"
      },
      "execution_count": null,
      "outputs": [
        {
          "output_type": "stream",
          "name": "stdout",
          "text": [
            "\u001b[?25l\r\u001b[K     |▎                               | 10 kB 24.4 MB/s eta 0:00:01\r\u001b[K     |▋                               | 20 kB 27.5 MB/s eta 0:00:01\r\u001b[K     |▉                               | 30 kB 33.4 MB/s eta 0:00:01\r\u001b[K     |█▏                              | 40 kB 29.4 MB/s eta 0:00:01\r\u001b[K     |█▌                              | 51 kB 21.8 MB/s eta 0:00:01\r\u001b[K     |█▊                              | 61 kB 24.7 MB/s eta 0:00:01\r\u001b[K     |██                              | 71 kB 25.3 MB/s eta 0:00:01\r\u001b[K     |██▍                             | 81 kB 26.9 MB/s eta 0:00:01\r\u001b[K     |██▋                             | 92 kB 29.0 MB/s eta 0:00:01\r\u001b[K     |███                             | 102 kB 29.8 MB/s eta 0:00:01\r\u001b[K     |███▎                            | 112 kB 29.8 MB/s eta 0:00:01\r\u001b[K     |███▌                            | 122 kB 29.8 MB/s eta 0:00:01\r\u001b[K     |███▉                            | 133 kB 29.8 MB/s eta 0:00:01\r\u001b[K     |████▏                           | 143 kB 29.8 MB/s eta 0:00:01\r\u001b[K     |████▍                           | 153 kB 29.8 MB/s eta 0:00:01\r\u001b[K     |████▊                           | 163 kB 29.8 MB/s eta 0:00:01\r\u001b[K     |█████                           | 174 kB 29.8 MB/s eta 0:00:01\r\u001b[K     |█████▎                          | 184 kB 29.8 MB/s eta 0:00:01\r\u001b[K     |█████▋                          | 194 kB 29.8 MB/s eta 0:00:01\r\u001b[K     |██████                          | 204 kB 29.8 MB/s eta 0:00:01\r\u001b[K     |██████▏                         | 215 kB 29.8 MB/s eta 0:00:01\r\u001b[K     |██████▌                         | 225 kB 29.8 MB/s eta 0:00:01\r\u001b[K     |██████▉                         | 235 kB 29.8 MB/s eta 0:00:01\r\u001b[K     |███████                         | 245 kB 29.8 MB/s eta 0:00:01\r\u001b[K     |███████▍                        | 256 kB 29.8 MB/s eta 0:00:01\r\u001b[K     |███████▋                        | 266 kB 29.8 MB/s eta 0:00:01\r\u001b[K     |████████                        | 276 kB 29.8 MB/s eta 0:00:01\r\u001b[K     |████████▎                       | 286 kB 29.8 MB/s eta 0:00:01\r\u001b[K     |████████▌                       | 296 kB 29.8 MB/s eta 0:00:01\r\u001b[K     |████████▉                       | 307 kB 29.8 MB/s eta 0:00:01\r\u001b[K     |█████████▏                      | 317 kB 29.8 MB/s eta 0:00:01\r\u001b[K     |█████████▍                      | 327 kB 29.8 MB/s eta 0:00:01\r\u001b[K     |█████████▊                      | 337 kB 29.8 MB/s eta 0:00:01\r\u001b[K     |██████████                      | 348 kB 29.8 MB/s eta 0:00:01\r\u001b[K     |██████████▎                     | 358 kB 29.8 MB/s eta 0:00:01\r\u001b[K     |██████████▋                     | 368 kB 29.8 MB/s eta 0:00:01\r\u001b[K     |███████████                     | 378 kB 29.8 MB/s eta 0:00:01\r\u001b[K     |███████████▏                    | 389 kB 29.8 MB/s eta 0:00:01\r\u001b[K     |███████████▌                    | 399 kB 29.8 MB/s eta 0:00:01\r\u001b[K     |███████████▉                    | 409 kB 29.8 MB/s eta 0:00:01\r\u001b[K     |████████████                    | 419 kB 29.8 MB/s eta 0:00:01\r\u001b[K     |████████████▍                   | 430 kB 29.8 MB/s eta 0:00:01\r\u001b[K     |████████████▊                   | 440 kB 29.8 MB/s eta 0:00:01\r\u001b[K     |█████████████                   | 450 kB 29.8 MB/s eta 0:00:01\r\u001b[K     |█████████████▎                  | 460 kB 29.8 MB/s eta 0:00:01\r\u001b[K     |█████████████▋                  | 471 kB 29.8 MB/s eta 0:00:01\r\u001b[K     |█████████████▉                  | 481 kB 29.8 MB/s eta 0:00:01\r\u001b[K     |██████████████▏                 | 491 kB 29.8 MB/s eta 0:00:01\r\u001b[K     |██████████████▍                 | 501 kB 29.8 MB/s eta 0:00:01\r\u001b[K     |██████████████▊                 | 512 kB 29.8 MB/s eta 0:00:01\r\u001b[K     |███████████████                 | 522 kB 29.8 MB/s eta 0:00:01\r\u001b[K     |███████████████▎                | 532 kB 29.8 MB/s eta 0:00:01\r\u001b[K     |███████████████▋                | 542 kB 29.8 MB/s eta 0:00:01\r\u001b[K     |████████████████                | 552 kB 29.8 MB/s eta 0:00:01\r\u001b[K     |████████████████▏               | 563 kB 29.8 MB/s eta 0:00:01\r\u001b[K     |████████████████▌               | 573 kB 29.8 MB/s eta 0:00:01\r\u001b[K     |████████████████▉               | 583 kB 29.8 MB/s eta 0:00:01\r\u001b[K     |█████████████████               | 593 kB 29.8 MB/s eta 0:00:01\r\u001b[K     |█████████████████▍              | 604 kB 29.8 MB/s eta 0:00:01\r\u001b[K     |█████████████████▊              | 614 kB 29.8 MB/s eta 0:00:01\r\u001b[K     |██████████████████              | 624 kB 29.8 MB/s eta 0:00:01\r\u001b[K     |██████████████████▎             | 634 kB 29.8 MB/s eta 0:00:01\r\u001b[K     |██████████████████▋             | 645 kB 29.8 MB/s eta 0:00:01\r\u001b[K     |██████████████████▉             | 655 kB 29.8 MB/s eta 0:00:01\r\u001b[K     |███████████████████▏            | 665 kB 29.8 MB/s eta 0:00:01\r\u001b[K     |███████████████████▌            | 675 kB 29.8 MB/s eta 0:00:01\r\u001b[K     |███████████████████▊            | 686 kB 29.8 MB/s eta 0:00:01\r\u001b[K     |████████████████████            | 696 kB 29.8 MB/s eta 0:00:01\r\u001b[K     |████████████████████▍           | 706 kB 29.8 MB/s eta 0:00:01\r\u001b[K     |████████████████████▋           | 716 kB 29.8 MB/s eta 0:00:01\r\u001b[K     |█████████████████████           | 727 kB 29.8 MB/s eta 0:00:01\r\u001b[K     |█████████████████████▏          | 737 kB 29.8 MB/s eta 0:00:01\r\u001b[K     |█████████████████████▌          | 747 kB 29.8 MB/s eta 0:00:01\r\u001b[K     |█████████████████████▉          | 757 kB 29.8 MB/s eta 0:00:01\r\u001b[K     |██████████████████████          | 768 kB 29.8 MB/s eta 0:00:01\r\u001b[K     |██████████████████████▍         | 778 kB 29.8 MB/s eta 0:00:01\r\u001b[K     |██████████████████████▊         | 788 kB 29.8 MB/s eta 0:00:01\r\u001b[K     |███████████████████████         | 798 kB 29.8 MB/s eta 0:00:01\r\u001b[K     |███████████████████████▎        | 808 kB 29.8 MB/s eta 0:00:01\r\u001b[K     |███████████████████████▋        | 819 kB 29.8 MB/s eta 0:00:01\r\u001b[K     |███████████████████████▉        | 829 kB 29.8 MB/s eta 0:00:01\r\u001b[K     |████████████████████████▏       | 839 kB 29.8 MB/s eta 0:00:01\r\u001b[K     |████████████████████████▌       | 849 kB 29.8 MB/s eta 0:00:01\r\u001b[K     |████████████████████████▊       | 860 kB 29.8 MB/s eta 0:00:01\r\u001b[K     |█████████████████████████       | 870 kB 29.8 MB/s eta 0:00:01\r\u001b[K     |█████████████████████████▍      | 880 kB 29.8 MB/s eta 0:00:01\r\u001b[K     |█████████████████████████▋      | 890 kB 29.8 MB/s eta 0:00:01\r\u001b[K     |██████████████████████████      | 901 kB 29.8 MB/s eta 0:00:01\r\u001b[K     |██████████████████████████▎     | 911 kB 29.8 MB/s eta 0:00:01\r\u001b[K     |██████████████████████████▌     | 921 kB 29.8 MB/s eta 0:00:01\r\u001b[K     |██████████████████████████▉     | 931 kB 29.8 MB/s eta 0:00:01\r\u001b[K     |███████████████████████████▏    | 942 kB 29.8 MB/s eta 0:00:01\r\u001b[K     |███████████████████████████▍    | 952 kB 29.8 MB/s eta 0:00:01\r\u001b[K     |███████████████████████████▊    | 962 kB 29.8 MB/s eta 0:00:01\r\u001b[K     |████████████████████████████    | 972 kB 29.8 MB/s eta 0:00:01\r\u001b[K     |████████████████████████████▎   | 983 kB 29.8 MB/s eta 0:00:01\r\u001b[K     |████████████████████████████▋   | 993 kB 29.8 MB/s eta 0:00:01\r\u001b[K     |████████████████████████████▉   | 1.0 MB 29.8 MB/s eta 0:00:01\r\u001b[K     |█████████████████████████████▏  | 1.0 MB 29.8 MB/s eta 0:00:01\r\u001b[K     |█████████████████████████████▌  | 1.0 MB 29.8 MB/s eta 0:00:01\r\u001b[K     |█████████████████████████████▊  | 1.0 MB 29.8 MB/s eta 0:00:01\r\u001b[K     |██████████████████████████████  | 1.0 MB 29.8 MB/s eta 0:00:01\r\u001b[K     |██████████████████████████████▍ | 1.1 MB 29.8 MB/s eta 0:00:01\r\u001b[K     |██████████████████████████████▋ | 1.1 MB 29.8 MB/s eta 0:00:01\r\u001b[K     |███████████████████████████████ | 1.1 MB 29.8 MB/s eta 0:00:01\r\u001b[K     |███████████████████████████████▎| 1.1 MB 29.8 MB/s eta 0:00:01\r\u001b[K     |███████████████████████████████▌| 1.1 MB 29.8 MB/s eta 0:00:01\r\u001b[K     |███████████████████████████████▉| 1.1 MB 29.8 MB/s eta 0:00:01\r\u001b[K     |████████████████████████████████| 1.1 MB 29.8 MB/s \n",
            "\u001b[?25h"
          ]
        }
      ]
    },
    {
      "cell_type": "code",
      "source": [
        "import tensorflow_addons as tfa"
      ],
      "metadata": {
        "id": "bAgxzbOXJJWI"
      },
      "execution_count": null,
      "outputs": []
    },
    {
      "cell_type": "code",
      "source": [
        "# Compile the model\n",
        "model.compile(\n",
        "    optimizer=tf.keras.optimizers.Adam(0.001),\n",
        "    loss=tfa.losses.TripletSemiHardLoss())\n"
      ],
      "metadata": {
        "id": "sJ16x14vIrap"
      },
      "execution_count": null,
      "outputs": []
    },
    {
      "cell_type": "code",
      "source": [
        "# Train the network\n",
        "history = model.fit(\n",
        "    train_dataset,\n",
        "    epochs=5)"
      ],
      "metadata": {
        "colab": {
          "base_uri": "https://localhost:8080/"
        },
        "id": "jsLc4dmcIuOS",
        "outputId": "c5de38dc-8fbd-42eb-8557-ae70dc44da64"
      },
      "execution_count": null,
      "outputs": [
        {
          "output_type": "stream",
          "name": "stdout",
          "text": [
            "Epoch 1/5\n",
            "1875/1875 [==============================] - 29s 7ms/step - loss: 0.5865\n",
            "Epoch 2/5\n",
            "1875/1875 [==============================] - 9s 5ms/step - loss: 0.4573\n",
            "Epoch 3/5\n",
            "1875/1875 [==============================] - 9s 5ms/step - loss: 0.4244\n",
            "Epoch 4/5\n",
            "1875/1875 [==============================] - 9s 5ms/step - loss: 0.4068\n",
            "Epoch 5/5\n",
            "1875/1875 [==============================] - 9s 5ms/step - loss: 0.3963\n"
          ]
        }
      ]
    },
    {
      "cell_type": "code",
      "source": [
        "# Evaluate the network\n",
        "results = model.predict(test_dataset)"
      ],
      "metadata": {
        "id": "x3phl-D-IuwC"
      },
      "execution_count": null,
      "outputs": []
    },
    {
      "cell_type": "code",
      "source": [
        "import io"
      ],
      "metadata": {
        "id": "GzWadaKEKhuA"
      },
      "execution_count": null,
      "outputs": []
    },
    {
      "cell_type": "code",
      "source": [
        "# Save test embeddings for visualization in projector\n",
        "np.savetxt(\"vecs.tsv\", results, delimiter='\\t')\n",
        "\n",
        "out_m = io.open('meta.tsv', 'w', encoding='utf-8')\n",
        "for img, labels in tfds.as_numpy(test_dataset):\n",
        "    [out_m.write(str(x) + \"\\n\") for x in labels]\n",
        "out_m.close()\n",
        "\n",
        "\n",
        "try:\n",
        "  from google.colab import files\n",
        "  files.download('vecs.tsv')\n",
        "  files.download('meta.tsv')\n",
        "except:\n",
        "  pass"
      ],
      "metadata": {
        "colab": {
          "base_uri": "https://localhost:8080/",
          "height": 17
        },
        "id": "pwsV7THQIyrg",
        "outputId": "8d6cb907-c448-43b7-9890-b26983f06cbc"
      },
      "execution_count": null,
      "outputs": [
        {
          "output_type": "display_data",
          "data": {
            "text/plain": [
              "<IPython.core.display.Javascript object>"
            ],
            "application/javascript": [
              "\n",
              "    async function download(id, filename, size) {\n",
              "      if (!google.colab.kernel.accessAllowed) {\n",
              "        return;\n",
              "      }\n",
              "      const div = document.createElement('div');\n",
              "      const label = document.createElement('label');\n",
              "      label.textContent = `Downloading \"${filename}\": `;\n",
              "      div.appendChild(label);\n",
              "      const progress = document.createElement('progress');\n",
              "      progress.max = size;\n",
              "      div.appendChild(progress);\n",
              "      document.body.appendChild(div);\n",
              "\n",
              "      const buffers = [];\n",
              "      let downloaded = 0;\n",
              "\n",
              "      const channel = await google.colab.kernel.comms.open(id);\n",
              "      // Send a message to notify the kernel that we're ready.\n",
              "      channel.send({})\n",
              "\n",
              "      for await (const message of channel.messages) {\n",
              "        // Send a message to notify the kernel that we're ready.\n",
              "        channel.send({})\n",
              "        if (message.buffers) {\n",
              "          for (const buffer of message.buffers) {\n",
              "            buffers.push(buffer);\n",
              "            downloaded += buffer.byteLength;\n",
              "            progress.value = downloaded;\n",
              "          }\n",
              "        }\n",
              "      }\n",
              "      const blob = new Blob(buffers, {type: 'application/binary'});\n",
              "      const a = document.createElement('a');\n",
              "      a.href = window.URL.createObjectURL(blob);\n",
              "      a.download = filename;\n",
              "      div.appendChild(a);\n",
              "      a.click();\n",
              "      div.remove();\n",
              "    }\n",
              "  "
            ]
          },
          "metadata": {}
        },
        {
          "output_type": "display_data",
          "data": {
            "text/plain": [
              "<IPython.core.display.Javascript object>"
            ],
            "application/javascript": [
              "download(\"download_ceb0bba2-ce74-4896-98f3-a9e8b952876c\", \"vecs.tsv\", 65271132)"
            ]
          },
          "metadata": {}
        },
        {
          "output_type": "display_data",
          "data": {
            "text/plain": [
              "<IPython.core.display.Javascript object>"
            ],
            "application/javascript": [
              "\n",
              "    async function download(id, filename, size) {\n",
              "      if (!google.colab.kernel.accessAllowed) {\n",
              "        return;\n",
              "      }\n",
              "      const div = document.createElement('div');\n",
              "      const label = document.createElement('label');\n",
              "      label.textContent = `Downloading \"${filename}\": `;\n",
              "      div.appendChild(label);\n",
              "      const progress = document.createElement('progress');\n",
              "      progress.max = size;\n",
              "      div.appendChild(progress);\n",
              "      document.body.appendChild(div);\n",
              "\n",
              "      const buffers = [];\n",
              "      let downloaded = 0;\n",
              "\n",
              "      const channel = await google.colab.kernel.comms.open(id);\n",
              "      // Send a message to notify the kernel that we're ready.\n",
              "      channel.send({})\n",
              "\n",
              "      for await (const message of channel.messages) {\n",
              "        // Send a message to notify the kernel that we're ready.\n",
              "        channel.send({})\n",
              "        if (message.buffers) {\n",
              "          for (const buffer of message.buffers) {\n",
              "            buffers.push(buffer);\n",
              "            downloaded += buffer.byteLength;\n",
              "            progress.value = downloaded;\n",
              "          }\n",
              "        }\n",
              "      }\n",
              "      const blob = new Blob(buffers, {type: 'application/binary'});\n",
              "      const a = document.createElement('a');\n",
              "      a.href = window.URL.createObjectURL(blob);\n",
              "      a.download = filename;\n",
              "      div.appendChild(a);\n",
              "      a.click();\n",
              "      div.remove();\n",
              "    }\n",
              "  "
            ]
          },
          "metadata": {}
        },
        {
          "output_type": "display_data",
          "data": {
            "text/plain": [
              "<IPython.core.display.Javascript object>"
            ],
            "application/javascript": [
              "download(\"download_e3a8b481-4cf4-46ef-9723-58837f70b176\", \"meta.tsv\", 20000)"
            ]
          },
          "metadata": {}
        }
      ]
    },
    {
      "cell_type": "markdown",
      "source": [
        "The vector and metadata files can be loaded and visualized here: https://projector.tensorflow.org/"
      ],
      "metadata": {
        "id": "PCE9M5FOLQUw"
      }
    }
  ]
}